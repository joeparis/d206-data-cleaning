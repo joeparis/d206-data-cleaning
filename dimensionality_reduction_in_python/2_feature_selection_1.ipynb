{
 "cells": [
  {
   "cell_type": "markdown",
   "metadata": {},
   "source": [
    "# Feature Selection I - Selecting for Feature Information\n",
    "\n",
    "In this first out of two chapters on feature selection, you'll learn about the curse of dimensionality and how dimensionality reduction can help you overcome it. You'll be introduced to a number of techniques to detect and remove features that bring little added value to the dataset. Either because they have little variance, too many missing values, or because they are strongly correlated to other features."
   ]
  },
  {
   "cell_type": "code",
   "execution_count": 2,
   "metadata": {},
   "outputs": [],
   "source": [
    "import numpy as np\n",
    "import pandas as pd\n",
    "import seaborn as sns\n",
    "\n",
    "import matplotlib.pyplot as plt\n",
    "\n",
    "from sklearn.feature_selection import VarianceThreshold\n",
    "from sklearn.metrics import accuracy_score\n",
    "from sklearn.model_selection import train_test_split\n",
    "from sklearn.svm import SVC"
   ]
  },
  {
   "cell_type": "markdown",
   "metadata": {},
   "source": [
    "## The curse of dimensionality\n",
    "\n",
    "As a data scientist, you'd rather have a dataset with a lot of features compared to one with just a few.\n",
    "\n",
    "There is however one downside to high-dimensional datasets that you may not have considered thus far: models tend to overfit badly on high-dimensional data. \n",
    "\n",
    "The solution is to reduce dimensionality, but which features should you drop? In this chapter we'll look into detecting low quality features and how to remove them.\n",
    "\n",
    "But first, we'll build some intuition on why models overfit. "
   ]
  },
  {
   "cell_type": "markdown",
   "metadata": {},
   "source": [
    "### From observation to pattern\n",
    "\n",
    "Say we want to predict the city in which a house is located based on some features of that house. But all we have to train the model is this tiny dataset with the house price in million Euros for two observations.\n",
    "\n",
    "| City | Price |\n",
    "|------|:-----:|\n",
    "| Berlin | 2 |\n",
    "| Paris | 3 |\n",
    "\n",
    "The model will overfit. It will just memorize the two training examples instead of deriving a general pattern for houses from each city. If we want the model to generalize we need to give it more observations of house prices for each city. \n",
    "\n",
    "When we expand to 1000 observations per city the price distributions become clear and a model should be able to train on this data without overfitting. \n",
    "\n",
    "| City | Price |\n",
    "|------|:-----:|\n",
    "| Berlin | 2.0 |\n",
    "| Berlin | 3.1 |\n",
    "| Berlin | 4.3 |\n",
    "| Paris | 3.0 |\n",
    "| Paris | 5.2 |\n",
    "| ... | ... |\n",
    "\n",
    "\n",
    "![alt text](images/observation_to_pattern.png)"
   ]
  },
  {
   "cell_type": "markdown",
   "metadata": {},
   "source": [
    "### Building a city classifier\n",
    "\n",
    "To test this assumption we'll build a model. But before we do so, we'll split the data into a 70% train and 30% test set using scikit learn's `train_test_split()` function. \n",
    "\n",
    "```python\n",
    "# separate the feature we want to predict from the ones to train the model on\n",
    "y = house_df['City']\n",
    "\n",
    "X = house_df.drop('City', axes=1)\n",
    "\n",
    "# perform a 70/30 train/test split\n",
    "X_train, X_test, y_train, y_test = train_test_split(X, y, test_size=0.3)\n",
    "```"
   ]
  },
  {
   "cell_type": "markdown",
   "metadata": {},
   "source": [
    "We'll then instantiate a classifier model, here we chose a support vector machine classifier, and fit it to the training data. \n",
    "\n",
    "```python\n",
    "# create Support Vector Machine Classifier and fit\n",
    "from sklearn.svm import SVC\n",
    "\n",
    "svc = SVC()\n",
    "\n",
    "svc.fit(X_train, y_train)\n",
    "```"
   ]
  },
  {
   "cell_type": "markdown",
   "metadata": {},
   "source": [
    "We can then assess the accuracy of the model on the test set, this is the 30% of the original data that the model didn't see during the training process.\n",
    "\n",
    "```python\n",
    "from sklearn.metrics import accuracy_score\n",
    "\n",
    "print(accuracy_score(y_test, svc.predict(X_test)))\n",
    "```\n",
    "\n",
    "```text\n",
    "0.826\n",
    "```\n",
    "\n",
    "Our model is able to assign 82.6% of unseen houses to the correct city.\n",
    "\n",
    "From our visual exploration, this could be expected since there was quite a lot of overlap in the single feature our model was trained on (price).\n",
    "\n",
    "If we want to know whether our model overfitted to the dataset we can have a look at the accuracy on the training set. If this accuracy is much higher than that on the test set we can conclude that the model didn't generalize well but simply memorized all training examples.\n",
    "\n",
    "```python\n",
    "print(accuracy_score(y_train, svc.predict(X_train)))\n",
    "```\n",
    "\n",
    "```text\n",
    "0.832\n",
    "```\n",
    "\n",
    "Fortunately, this is not the case here. "
   ]
  },
  {
   "cell_type": "markdown",
   "metadata": {},
   "source": [
    "### Adding features\n",
    "\n",
    "If we want to improve the accuracy of our model, we'll have to add features to the dataset.\n",
    "\n",
    "Features like number of floors, bathrooms, or square area could all be helpful.\n",
    "\n",
    "| City | Price | n_floors | n_bathroom | surface_m2 |\n",
    "|------|:-----:|:--------:|:----------:|:----------:|\n",
    "| Berlin | 2.0 | 1 | 1 | 190 |\n",
    "| Berlin | 3.1 | 2 | 1 | 187 |\n",
    "| Berlin | 4.3 | 2 | 2 | 240 |\n",
    "| Paris | 3.0 | 2 | 1 | 170 |\n",
    "| Paris | 5.2 | 2 | 2 | 290 |\n",
    "| ... | ... | ... | ...| ... |\n",
    "\n",
    "However, with each feature that we add, we should also increase the number of observations of houses in our dataset. If we don't we'll end up with a lot of unique combinations of features that models can easily memorize and thus overfit to.\n",
    "\n",
    "In fact, to avoid overfitting ***the number of observations should increase exponentially with the number of features***. Since this becomes really problematic for high dimensional datasets this phenomenon is known as the curse of dimensionality.\n",
    "\n",
    "The solution to this is of course to apply dimensionality reduction. "
   ]
  },
  {
   "cell_type": "markdown",
   "metadata": {},
   "source": [
    "#### Train - test split\n",
    "\n",
    "In this chapter, you will keep working with the ANSUR dataset. Before you can build a model on your dataset, you should first decide on which feature you want to predict. In this case, you're trying to predict gender.\n",
    "\n",
    "You need to extract the column holding this feature from the dataset and then split the data into a training and test set. The training set will be used to train the model and the test set will be used to check its performance on unseen data.\n",
    "\n",
    "`ansur_df` has been pre-loaded for you.\n",
    "\n",
    "##### Instructions\n",
    "\n",
    "* Import the `train_test_split` function from `sklearn.model_selection`.\n",
    "* Assign the `'Gender'` column to `y`.\n",
    "* Remove the `'Gender'` column from the DataFrame and assign the result to `X`.\n",
    "* Set the test size to 30% to perform a 70% train and 30% test data split."
   ]
  },
  {
   "cell_type": "code",
   "execution_count": 2,
   "metadata": {},
   "outputs": [],
   "source": [
    "ansur_df = pd.read_csv(\"data/ansur_male_female_2.csv\")"
   ]
  },
  {
   "cell_type": "code",
   "execution_count": 4,
   "metadata": {},
   "outputs": [
    {
     "name": "stdout",
     "output_type": "stream",
     "text": [
      "60 rows in test set vs. 140 in training set, 92 Features.\n"
     ]
    }
   ],
   "source": [
    "y = ansur_df[\"Gender\"]\n",
    "X = ansur_df.drop(\"Gender\", axis=1)\n",
    "\n",
    "X_train, X_test, y_train, y_test = train_test_split(X, y, test_size=0.3)\n",
    "\n",
    "print(f\"{X_test.shape[0]} rows in test set vs. {X_train.shape[0]} in training set, {X_test.shape[1]} Features.\")"
   ]
  },
  {
   "cell_type": "markdown",
   "metadata": {},
   "source": [
    "#### Fitting and testing the model\n",
    "\n",
    "In the previous exercise, you split the dataset into `X_train`, `X_test`, `y_train`, and `y_test`. These datasets have been pre-loaded for you. You'll now create a support vector machine classifier model (`SVC()`) and fit that to the training data. You'll then calculate the accuracy on both the test and training set to detect overfitting.\n",
    "\n",
    "##### Instructions\n",
    "\n",
    "* Import `SVC` from `sklearn.svm` and `accuracy_score` from `sklearn.metrics`\n",
    "* Create an instance of the Support Vector Classification class (`SVC()`).\n",
    "* Fit the model to the training data.\n",
    "* Calculate accuracy scores on both train and test data."
   ]
  },
  {
   "cell_type": "code",
   "execution_count": 22,
   "metadata": {},
   "outputs": [
    {
     "name": "stdout",
     "output_type": "stream",
     "text": [
      "95.0% accuracy on test set vs. 95.0% on training set\n"
     ]
    }
   ],
   "source": [
    "from sklearn.svm import SVC\n",
    "from sklearn.metrics import accuracy_score\n",
    "\n",
    "svc = SVC()\n",
    "\n",
    "svc.fit(X_train, y_train)\n",
    "\n",
    "accuracy_train = accuracy_score(y_train, svc.predict(X_train))\n",
    "accuracy_test = accuracy_score(y_test, svc.predict(X_test))\n",
    "\n",
    "print(f\"{accuracy_test:.1%} accuracy on test set vs. {accuracy_train:.1%} on training set\")"
   ]
  },
  {
   "cell_type": "markdown",
   "metadata": {},
   "source": [
    "Site returned \"81.7% accuracy on test set vs. 88.6% on training set\" which was considered overtraining."
   ]
  },
  {
   "cell_type": "markdown",
   "metadata": {},
   "source": [
    "#### Accuracy after dimensionality reduction\n",
    "\n",
    "You'll reduce the overfit with the help of dimensionality reduction. In this case, you'll apply a rather drastic form of dimensionality reduction by only selecting a single column that has some good information to distinguish between genders. You'll repeat the train-test split, model fit and prediction steps to compare the accuracy on test versus training data.\n",
    "\n",
    "All relevant packages and `y` have been pre-loaded.\n",
    "\n",
    "##### Instructions\n",
    "\n",
    "* Select just the neck circumference (`'neckcircumferencebase'`) column from `ansur_df`.\n",
    "* Split the data, instantiate a classifier and fit the data. This has been done for you.\n",
    "* Once again calculate the accuracy scores on both training and test set."
   ]
  },
  {
   "cell_type": "code",
   "execution_count": 34,
   "metadata": {},
   "outputs": [
    {
     "name": "stdout",
     "output_type": "stream",
     "text": [
      "96.7% accuracy on test set vs. 94.3% on training set\n"
     ]
    }
   ],
   "source": [
    "# Assign just the 'neckcircumferencebase' column from ansur_df to X\n",
    "X = ansur_df[[\"neckcircumferencebase\"]]\n",
    "y = ansur_df[\"Gender\"]\n",
    "\n",
    "# Split the data, instantiate a classifier and fit the data\n",
    "X_train, X_test, y_train, y_test = train_test_split(X, y, test_size=0.3)\n",
    "svc = SVC()\n",
    "svc.fit(X_train, y_train)\n",
    "\n",
    "# Calculate accuracy scores on both train and test data\n",
    "accuracy_train = accuracy_score(y_train, svc.predict(X_train))\n",
    "accuracy_test = accuracy_score(y_test, svc.predict(X_test))\n",
    "\n",
    "print(f\"{accuracy_test:.1%} accuracy on test set vs. {accuracy_train:.1%} on training set\")"
   ]
  },
  {
   "cell_type": "markdown",
   "metadata": {},
   "source": [
    "Site got \"95.0% accuracy on test set vs. 95.0% on training set\"."
   ]
  },
  {
   "cell_type": "markdown",
   "metadata": {},
   "source": [
    "## Features with missing values or little variance\n",
    "\n",
    "In this lesson, we'll automate the selection of features that have sufficient variance and not too many missing values. \n",
    "\n",
    "### Creating a feature selector\n",
    "\n",
    "**Note:** Finally got a version of the ANSUR data that *almost* matches what the site is using for demos. `ansur_all.csv` has 6068 rows but 108(!) columns (14 more than the site's).\n",
    "\n",
    "Low variance features are so similar between different observations that they may contain little information you can use in an analysis.\n",
    "\n",
    "To remove them, we can use one of Scikit-learn's built-in feature selection tools called `VarianceThreshold()`. When we create the selector we can set the minimal variance threshold. Here, we've set it to a variance of one. After fitting the selector to our dataset, its `.get_support()` method will give us a `True` or `False` value on whether each feature's variance is above the threshold or not. We call this type of boolean array a mask, and we can use this mask to reduce the number of dimensions in our dataset using `.loc()`."
   ]
  },
  {
   "cell_type": "code",
   "execution_count": 14,
   "metadata": {},
   "outputs": [
    {
     "name": "stdout",
     "output_type": "stream",
     "text": [
      "(6068, 99)\n",
      "(6068, 98)\n"
     ]
    }
   ],
   "source": [
    "from sklearn.feature_selection import VarianceThreshold\n",
    "\n",
    "ansur_df = pd.read_csv(\"data/ansur_all_numeric.csv\")\n",
    "\n",
    "print(ansur_df.shape)\n",
    "\n",
    "sel = VarianceThreshold(threshold=1)\n",
    "sel.fit(ansur_df)\n",
    "\n",
    "mask = sel.get_support()\n",
    "\n",
    "reduced_df = ansur_df.loc[:, mask]\n",
    "print(reduced_df.shape)"
   ]
  },
  {
   "cell_type": "markdown",
   "metadata": {},
   "source": [
    "### Variance selector caveats\n",
    "\n",
    "One problem with variance thresholds is that variance values aren't always easy to interpret or compare between features. We can illustrate this by looking at a number of buttock features from our ANSUR dataset. In the boxplot you can see that these different measurements have different medians, the green horizontal lines in each blue rectangle, and variances, the height of the blue rectangles and the length of the vertical lines coming from them. \n",
    "\n",
    "![alt text](images/buttocks_boxplot.png)\n",
    "\n",
    "For this dataset higher values tend to have higher variances and we should therefore normalize the variance before using it for feature selection. "
   ]
  },
  {
   "cell_type": "markdown",
   "metadata": {},
   "source": [
    "### Normalizing the variance\n",
    "\n",
    "Divide each column by its mean value before fitting the selector. After normalization, the variance in the dataset will be lower. We therefore also reduced the variance threshold to 0.005. Make sure to inspect your data visually while setting this value. When we apply the selector to our dataset the number of features is more than halved, to 45. "
   ]
  },
  {
   "cell_type": "code",
   "execution_count": 15,
   "metadata": {},
   "outputs": [
    {
     "name": "stdout",
     "output_type": "stream",
     "text": [
      "(6068, 49)\n"
     ]
    }
   ],
   "source": [
    "from sklearn.feature_selection import VarianceThreshold\n",
    "\n",
    "sel = VarianceThreshold(threshold=0.005)\n",
    "sel.fit(ansur_df / ansur_df.mean())\n",
    "\n",
    "mask = sel.get_support()\n",
    "\n",
    "reduced_df = ansur_df.loc[:, mask]\n",
    "print(reduced_df.shape)"
   ]
  },
  {
   "cell_type": "markdown",
   "metadata": {},
   "source": [
    "### Missing value selector\n",
    "\n",
    "Another reason you might want to drop a feature is that it contains a lot of missing values. \n",
    "\n",
    "```python\n",
    "# get total number of missing values in each column\n",
    "pokemon_df.isna().sum()\n",
    "```\n",
    "\n",
    "```text\n",
    "Name          0\n",
    "Type 1        0\n",
    "Type 2      386\n",
    "Total         0\n",
    "HP            0\n",
    "Attack        0\n",
    "Defense       0\n",
    "dtype: float64\n",
    "```\n",
    "\n",
    "Divide this number by the total number of rows in the DataFrame to get the ratio of missing values. It turns out that almost half the Pokemon don't have a value for the Type 2 feature. \n",
    "\n",
    "```python\n",
    "pokemon_df.isna().sum() / len(pokemon_df)\n",
    "```\n",
    "\n",
    "```text\n",
    "Name       0.00\n",
    "Type 1     0.00\n",
    "Type 2     0.48\n",
    "Total      0.00\n",
    "HP         0.00\n",
    "Attack     0.00\n",
    "Defense    0.00\n",
    "dtype: float64\n",
    "```"
   ]
  },
  {
   "cell_type": "markdown",
   "metadata": {},
   "source": [
    "### Applying a missing value threshold\n",
    "\n",
    "Based on this ratio we can create a mask for features that have fewer missing values than a certain threshold. In this case, we set it to 0.3. Once again we can pass our mask to the `.loc[]` method to sub-select the columns. The Type 2 feature is gone now. \n",
    "\n",
    "```python\n",
    "from sklearn.feature_selection import VarianceThreshold\n",
    "\n",
    "sel = VarianceThreshold(threshold=0.005)\n",
    "sel.fit(ansur_df / ansur_df.mean())\n",
    "\n",
    "# fewer than 30% missing = True\n",
    "mask = pokemon_df.isna().sum() / len(pokemon_df) < 0.3\n",
    "\n",
    "reduced_df = ansur_df.loc[:, mask]\n",
    "```\n",
    "\n",
    "When features have some missing values, but not too much, we could apply *imputation* to fill in the blanks."
   ]
  },
  {
   "cell_type": "markdown",
   "metadata": {},
   "source": [
    "#### Finding a good variance threshold\n",
    "\n",
    "You'll be working on a slightly modified subsample of the ANSUR dataset with just head measurements pre-loaded as `head_df`.\n",
    "\n",
    "##### Instructions 1/4\n",
    "\n",
    "* Create a boxplot on head_df."
   ]
  },
  {
   "cell_type": "code",
   "execution_count": 3,
   "metadata": {},
   "outputs": [],
   "source": [
    "# setup\n",
    "head_df = pd.read_csv(\"data/head.csv\")"
   ]
  },
  {
   "cell_type": "code",
   "execution_count": 4,
   "metadata": {},
   "outputs": [
    {
     "data": {
      "text/plain": [
       "<Axes: >"
      ]
     },
     "execution_count": 4,
     "metadata": {},
     "output_type": "execute_result"
    },
    {
     "data": {
      "image/png": "[encoded data removed]",
      "text/plain": [
       "<Figure size 640x480 with 1 Axes>"
      ]
     },
     "metadata": {},
     "output_type": "display_data"
    }
   ],
   "source": [
    "head_df.boxplot()"
   ]
  },
  {
   "cell_type": "markdown",
   "metadata": {},
   "source": [
    "##### Instructions 2/4\n",
    "\n",
    "* Normalize the data by dividing the DataFrame with its mean values."
   ]
  },
  {
   "cell_type": "code",
   "execution_count": 7,
   "metadata": {},
   "outputs": [
    {
     "data": {
      "image/png": "[encoded data removed]",
      "text/plain": [
       "<Figure size 640x480 with 1 Axes>"
      ]
     },
     "metadata": {},
     "output_type": "display_data"
    }
   ],
   "source": [
    "normalized_df = head_df / head_df.mean()\n",
    "normalized_df.boxplot()\n",
    "plt.show()"
   ]
  },
  {
   "cell_type": "markdown",
   "metadata": {},
   "source": [
    "##### Instructions 3/4\n",
    "\n",
    "* Print the variances of the normalized data."
   ]
  },
  {
   "cell_type": "code",
   "execution_count": 8,
   "metadata": {},
   "outputs": [
    {
     "data": {
      "text/plain": [
       "headbreadth          1.678952e-03\n",
       "headcircumference    1.029623e-03\n",
       "headlength           1.867872e-03\n",
       "tragiontopofhead     2.639840e-03\n",
       "n_hairs              1.002552e-08\n",
       "measurement_error    0.000000e+00\n",
       "dtype: float64"
      ]
     },
     "execution_count": 8,
     "metadata": {},
     "output_type": "execute_result"
    }
   ],
   "source": [
    "normalized_df.var()"
   ]
  },
  {
   "cell_type": "markdown",
   "metadata": {},
   "source": [
    "##### Instructions 4/4\n",
    "\n",
    "**Question**\n",
    "\n",
    "Inspect the printed variances. If you want to remove the 2 very low variance features. What would be a good variance threshold?\n",
    "\n",
    "**Possible answers**\n",
    "\n",
    "1. 1.5e-03\n",
    "2. 1.5e-02\n",
    "3. 1.0e-03\n",
    "4. 1.0e-02\n",
    "\n",
    "**Answer**\n",
    "\n",
    "3. 1.0e-03"
   ]
  },
  {
   "cell_type": "markdown",
   "metadata": {},
   "source": [
    "### Features with low variance\n",
    "\n",
    "In the previous exercise you established that 0.001 is a good threshold to filter out low variance features in `head_df` after normalization. Now use the `VarianceThreshold` feature selector to remove these features.\n",
    "##### Instructions\n",
    "\n",
    "* Create the variance threshold selector with a threshold of 0.001.\n",
    "* Normalize the `head_df` DataFrame by dividing it by its mean values and fit the selector.\n",
    "* Create a boolean mask from the selector using `.get_support()`.\n",
    "* Create a reduced DataFrame by passing the mask to the `.loc[]` "
   ]
  },
  {
   "cell_type": "code",
   "execution_count": 9,
   "metadata": {},
   "outputs": [
    {
     "name": "stdout",
     "output_type": "stream",
     "text": [
      "Dimensionality reduced from 6 to 4.\n"
     ]
    }
   ],
   "source": [
    "from sklearn.feature_selection import VarianceThreshold\n",
    "\n",
    "sel = VarianceThreshold(threshold=0.001)\n",
    "sel.fit(head_df / head_df.mean())\n",
    "mask = sel.get_support()\n",
    "reduced_df = head_df.loc[:, mask]\n",
    "\n",
    "print(f\"Dimensionality reduced from {head_df.shape[1]} to {reduced_df.shape[1]}.\")"
   ]
  },
  {
   "cell_type": "markdown",
   "metadata": {},
   "source": [
    "### Removing features with many missing values\n",
    "\n",
    "You'll apply feature selection on the Boston Public Schools dataset which has been pre-loaded as `school_df`. Calculate the missing value ratio per feature and then create a mask to remove features with many missing values.\n",
    "\n",
    "##### Instructions 1/2\n",
    "\n",
    "**Question**\n",
    "\n",
    "In what range lies highest ratio of missing values for a single feature in the dataset?\n",
    "\n",
    "1. Between 0.9 and 1.0.\n",
    "2. Between 0.8 and 0.9.\n",
    "3. Between 0.7 and 0.8.\n",
    "4. Between 0.6 and 0.7.\n",
    "\n",
    "**Answer**\n",
    "\n",
    "1. Between 0.9 and 1.0."
   ]
  },
  {
   "cell_type": "code",
   "execution_count": 13,
   "metadata": {},
   "outputs": [
    {
     "data": {
      "text/plain": [
       "x             0.000000\n",
       "y             0.000000\n",
       "objectid_1    0.000000\n",
       "objectid      0.000000\n",
       "bldg_id       0.000000\n",
       "bldg_name     0.000000\n",
       "address       0.000000\n",
       "city          0.000000\n",
       "zipcode       0.000000\n",
       "csp_sch_id    0.000000\n",
       "sch_id        0.000000\n",
       "sch_name      0.000000\n",
       "sch_label     0.000000\n",
       "sch_type      0.000000\n",
       "shared        0.877863\n",
       "complex       0.984733\n",
       "label         0.000000\n",
       "tlt           0.000000\n",
       "pl            0.000000\n",
       "point_x       0.000000\n",
       "point_y       0.000000\n",
       "dtype: float64"
      ]
     },
     "execution_count": 13,
     "metadata": {},
     "output_type": "execute_result"
    }
   ],
   "source": [
    "school_df = pd.read_csv(\"data/school.csv\")\n",
    "\n",
    "school_df.isna().sum() / len(school_df)"
   ]
  },
  {
   "cell_type": "markdown",
   "metadata": {},
   "source": [
    "##### Instructions 2/2\n",
    "\n",
    "* Create a boolean mask on whether each feature has less than 50% missing values.\n",
    "* Apply the mask to `school_df` to select columns without many missing values."
   ]
  },
  {
   "cell_type": "code",
   "execution_count": 16,
   "metadata": {},
   "outputs": [
    {
     "name": "stdout",
     "output_type": "stream",
     "text": [
      "(131, 21)\n",
      "(131, 19)\n"
     ]
    }
   ],
   "source": [
    "mask = (school_df.isna().sum() / len(school_df)) < 0.5\n",
    "reduced_df = school_df.loc[:, mask]\n",
    "\n",
    "print(school_df.shape)\n",
    "print(reduced_df.shape)"
   ]
  },
  {
   "cell_type": "markdown",
   "metadata": {},
   "source": [
    "## Pairwise correlation\n",
    "\n",
    "In the last two lessons, we focused on techniques to remove features based on their individual properties, such as the variance they show or the proportion of missing values they have.\n",
    "\n",
    "A next step is to look at how features relate to one another to decide if they are worth keeping. \n",
    "\n",
    "Remember, pairplots help us visually identify strongly correlated features. They do **not** help us quantify the correlation, though."
   ]
  },
  {
   "cell_type": "markdown",
   "metadata": {},
   "source": [
    "### Correlation coefficient\n",
    "\n",
    "The correlation coefficient is a measure of the strength of the correlation between features.\n",
    "\n",
    "![alt text](images/correlation_coefficient.png)\n",
    "\n",
    "Minus one describes a perfectly negative correlation, zero describes no correlation at all and plus one stands for a perfect positive correlation. \n",
    "\n",
    "When the relation between two features shows more variance, as is usually the case in real-world data, the correlation coefficients will be a bit closer to zero. \n",
    "\n",
    "![alt text](images/realistic_correlation_coefficient.png)"
   ]
  },
  {
   "cell_type": "markdown",
   "metadata": {},
   "source": [
    "### Correlation matrix\n",
    "\n",
    "We can calculate correlation coefficients on pandas DataFrames using the `.corr()` method. Doing so generates a correlation matrix.\n",
    "\n",
    "```python\n",
    "weights_df.corr()\n",
    "```\n",
    "\n",
    "![alt text](images/correlation_matrix.png)\n",
    "\n",
    "Perfectly correlated features such as weight in kilograms and weight in pounds have a correlation coefficient of 1."
   ]
  },
  {
   "cell_type": "markdown",
   "metadata": {},
   "source": [
    "### Visualizing the correlation matrix\n",
    "\n",
    "We can visualize correlation matrices using Seaborn's `heatmap()` function.\n",
    "\n",
    "```python\n",
    "cmap = sns.diverging_palette(h_neg=10, h_pos=240, as_cmap=True)\n",
    "\n",
    "sns.heatmap(weights_df.corr(), center=0, cmap=cmap, linewidths=1, annot=True, fmt=\".2f\")\n",
    "```\n",
    "\n",
    "![alt text](images/correlation_heatmap.png)\n",
    "\n",
    "We can improve this plot by removing the diagonal values that show each feature perfectly correlates to itself and the duplicated values as well.\n",
    "\n",
    "To do so we'll create a boolean mask. We use NumPy's `ones_like()` function to create a matrix filled with True values with the same dimensions as our correlation matrix and then pass this to NumPy's `triu()`, for triangle upper, function to set all non-upper triangle values to False. When we pass this mask to the `heatmap()` function it will ignore the upper triangle, allowing us to focus on the interesting part of the plot. \n",
    "\n",
    "```python\n",
    "corr = weights_df.corr()\n",
    "\n",
    "mask = np.triu(no.ones_like(corr, dtype=bool))\n",
    "\n",
    "sns.heatmap(weights_df.corr(), mask=mask, center=0, cmap=cmap, linewidths=1, annot=True, fmt=\".2f\")\n",
    "```\n",
    "\n",
    "![alt text](images/better_heatmap.png)\n",
    "\n",
    "When we apply this method to a slightly larger subset of the ANSUR data we can instantly spot that chest height is not correlated to the hip breadth while sitting, and that the suprasternale height is very strongly correlated to the chest height. \n",
    "\n",
    "![alt text](images/ansur_heatmap.png)"
   ]
  },
  {
   "cell_type": "markdown",
   "metadata": {},
   "source": [
    "#### Correlation intuition\n",
    "\n",
    "What statement on correlations is correct?\n",
    "\n",
    "**Possible Answers**\n",
    "\n",
    "1. The correlation coefficient of A to B is equal to that of B to A.\n",
    "2. When two features have a correlation coefficient of 1 the values of both features are equal for each observation.\n",
    "3. A correlation coefficient of 0 between two features A and B implies that high values of A are typically associated with low values of B.\n",
    "\n",
    "**Answer**\n",
    "\n",
    "1. The correlation coefficient of A to B is equal to that of B to A."
   ]
  },
  {
   "cell_type": "markdown",
   "metadata": {},
   "source": [
    "#### Inspecting the correlation matrix\n",
    "\n",
    "A sample of the ANSUR body measurements dataset has been pre-loaded as `ansur_df`. Use the terminal to create a correlation matrix for this dataset.\n",
    "\n",
    "What is the correlation coefficient between wrist and ankle circumference?\n",
    "\n",
    "##### Instructions\n",
    "\n",
    "**Possible answers**\n",
    "\n",
    "1. 0.702\n",
    "2. 1.000\n",
    "3. 0.302\n",
    "4. 0.577\n",
    "\n",
    "**Answer**\n",
    "\n",
    "1. 0.702"
   ]
  },
  {
   "cell_type": "code",
   "execution_count": 5,
   "metadata": {},
   "outputs": [
    {
     "data": {
      "text/html": [
       "<div>\n",
       "<style scoped>\n",
       "    .dataframe tbody tr th:only-of-type {\n",
       "        vertical-align: middle;\n",
       "    }\n",
       "\n",
       "    .dataframe tbody tr th {\n",
       "        vertical-align: top;\n",
       "    }\n",
       "\n",
       "    .dataframe thead th {\n",
       "        text-align: right;\n",
       "    }\n",
       "</style>\n",
       "<table border=\"1\" class=\"dataframe\">\n",
       "  <thead>\n",
       "    <tr style=\"text-align: right;\">\n",
       "      <th></th>\n",
       "      <th>Elbow rest height</th>\n",
       "      <th>Wrist circumference</th>\n",
       "      <th>Ankle circumference</th>\n",
       "      <th>Buttock height</th>\n",
       "      <th>Crotch height</th>\n",
       "    </tr>\n",
       "  </thead>\n",
       "  <tbody>\n",
       "    <tr>\n",
       "      <th>Elbow rest height</th>\n",
       "      <td>1.000000</td>\n",
       "      <td>0.294753</td>\n",
       "      <td>0.301963</td>\n",
       "      <td>-0.007013</td>\n",
       "      <td>-0.026090</td>\n",
       "    </tr>\n",
       "    <tr>\n",
       "      <th>Wrist circumference</th>\n",
       "      <td>0.294753</td>\n",
       "      <td>1.000000</td>\n",
       "      <td>0.702178</td>\n",
       "      <td>0.576679</td>\n",
       "      <td>0.606582</td>\n",
       "    </tr>\n",
       "    <tr>\n",
       "      <th>Ankle circumference</th>\n",
       "      <td>0.301963</td>\n",
       "      <td>0.702178</td>\n",
       "      <td>1.000000</td>\n",
       "      <td>0.367548</td>\n",
       "      <td>0.386502</td>\n",
       "    </tr>\n",
       "    <tr>\n",
       "      <th>Buttock height</th>\n",
       "      <td>-0.007013</td>\n",
       "      <td>0.576679</td>\n",
       "      <td>0.367548</td>\n",
       "      <td>1.000000</td>\n",
       "      <td>0.929411</td>\n",
       "    </tr>\n",
       "    <tr>\n",
       "      <th>Crotch height</th>\n",
       "      <td>-0.026090</td>\n",
       "      <td>0.606582</td>\n",
       "      <td>0.386502</td>\n",
       "      <td>0.929411</td>\n",
       "      <td>1.000000</td>\n",
       "    </tr>\n",
       "  </tbody>\n",
       "</table>\n",
       "</div>"
      ],
      "text/plain": [
       "                     Elbow rest height  Wrist circumference  \\\n",
       "Elbow rest height             1.000000             0.294753   \n",
       "Wrist circumference           0.294753             1.000000   \n",
       "Ankle circumference           0.301963             0.702178   \n",
       "Buttock height               -0.007013             0.576679   \n",
       "Crotch height                -0.026090             0.606582   \n",
       "\n",
       "                     Ankle circumference  Buttock height  Crotch height  \n",
       "Elbow rest height               0.301963       -0.007013      -0.026090  \n",
       "Wrist circumference             0.702178        0.576679       0.606582  \n",
       "Ankle circumference             1.000000        0.367548       0.386502  \n",
       "Buttock height                  0.367548        1.000000       0.929411  \n",
       "Crotch height                   0.386502        0.929411       1.000000  "
      ]
     },
     "execution_count": 5,
     "metadata": {},
     "output_type": "execute_result"
    }
   ],
   "source": [
    "ansur_df = pd.read_csv(\"data/correlation_matrix_ansur_data.csv\")\n",
    "\n",
    "ansur_df.corr()"
   ]
  },
  {
   "cell_type": "markdown",
   "metadata": {},
   "source": [
    "#### Visualizing the correlation matrix\n",
    "\n",
    "Reading the correlation matrix of `ansur_df` in its raw, numeric format doesn't allow us to get a quick overview. Let's improve this by removing redundant values and visualizing the matrix using seaborn.\n",
    "\n",
    "Seaborn has been pre-loaded as `sns`, matplotlib.pyplot as `plt`, NumPy as `np` and pandas as `pd`.\n",
    "\n",
    "##### Instructions 1/4\n",
    "\n",
    "* Create the correlation matrix.\n",
    "* Visualize it using Seaborn's heatmap function."
   ]
  },
  {
   "cell_type": "code",
   "execution_count": 6,
   "metadata": {},
   "outputs": [
    {
     "data": {
      "image/png": "[encoded data removed]",
      "text/plain": [
       "<Figure size 640x480 with 2 Axes>"
      ]
     },
     "metadata": {},
     "output_type": "display_data"
    }
   ],
   "source": [
    "corr = ansur_df.corr()\n",
    "\n",
    "cmap = sns.diverging_palette(h_neg=10, h_pos=240, as_cmap=True)\n",
    "\n",
    "sns.heatmap(corr, center=0, cmap=cmap, linewidths=1, annot=True, fmt=\".2f\")\n",
    "\n",
    "plt.show()"
   ]
  },
  {
   "cell_type": "markdown",
   "metadata": {},
   "source": [
    "##### Instructions 2/4\n",
    "\n",
    "* Create a boolean mask for the upper triangle of the plot."
   ]
  },
  {
   "cell_type": "code",
   "execution_count": 7,
   "metadata": {},
   "outputs": [
    {
     "name": "stdout",
     "output_type": "stream",
     "text": [
      "[[ True  True  True  True  True]\n",
      " [False  True  True  True  True]\n",
      " [False False  True  True  True]\n",
      " [False False False  True  True]\n",
      " [False False False False  True]]\n"
     ]
    }
   ],
   "source": [
    "mask = np.triu(np.ones_like(corr, dtype=bool))\n",
    "\n",
    "print(mask)"
   ]
  },
  {
   "cell_type": "markdown",
   "metadata": {},
   "source": [
    "##### Instructions 3/4\n",
    "\n",
    "* Add the mask to the heatmap."
   ]
  },
  {
   "cell_type": "code",
   "execution_count": 8,
   "metadata": {},
   "outputs": [
    {
     "data": {
      "text/plain": [
       "<Axes: >"
      ]
     },
     "execution_count": 8,
     "metadata": {},
     "output_type": "execute_result"
    },
    {
     "data": {
      "image/png": "[encoded data removed]",
      "text/plain": [
       "<Figure size 640x480 with 2 Axes>"
      ]
     },
     "metadata": {},
     "output_type": "display_data"
    }
   ],
   "source": [
    "sns.heatmap(corr, mask=mask, cmap=cmap, center=0, linewidths=1, annot=True, fmt=\".2f\")"
   ]
  },
  {
   "cell_type": "markdown",
   "metadata": {},
   "source": [
    "##### Instructions 4/4\n",
    "\n",
    "**Question**\n",
    "\n",
    "Which two features have the strongest correlation?\n",
    "\n",
    "**Possible answers**\n",
    "\n",
    "1. Wrist circumference and Ankle circumference.\n",
    "2. Crotch height and Elbow rest height.\n",
    "3. Wrist circumference and Buttock height.\n",
    "4. Buttock height and Crotch height.\n",
    "\n",
    "**Answer**\n",
    "\n",
    "4. Buttock height and Crotch height."
   ]
  },
  {
   "cell_type": "markdown",
   "metadata": {},
   "source": [
    "## Removing highly correlated features\n",
    "\n",
    "Features that are perfectly correlated to each other, with a correlation coefficient of one or minus one, bring no new information to a dataset but do add to the complexity. \n",
    "\n",
    "Naturally, we would want to drop one of the two features that hold the same information.\n",
    "\n",
    "In addition to this we might want to drop features that have correlation coefficients close to one or minus one if they are measurements of the same or similar things. "
   ]
  },
  {
   "cell_type": "markdown",
   "metadata": {},
   "source": [
    "### Highly correlated data\n",
    "\n",
    "The ANSUR dataset there are measurements for suprasternale, cervicale and chest height. The suprasternale and cervicale are two bones in the chest region so these three measurements always have very similar values. We see correlation as high as 98% so it makes sense to keep only one (for simplicity;s sake and to avoid overfitting the model on insignificant differences)."
   ]
  },
  {
   "cell_type": "markdown",
   "metadata": {},
   "source": [
    "### Removing highly correlated features\n",
    "\n",
    "First create a correlation matrix and take the absolute values of that, to also filter out strong negative correlations. Then create a mask for the upper triangle of the dataset just like we did when we were visualizing the correlation matrix. When we pass this mask to the pandas DataFrame .mask() method it will replace all positions in the DataFrame where the mask has a True value with NA.\n",
    "\n",
    "```python\n",
    "# create correlation matrix\n",
    "corr_df = chest_df.corr().abs()\n",
    "\n",
    "mask = np.triu(np.ones_like(corr, dtype=bool))\n",
    "tri_df = corr_df.mask(mask)\n",
    "```\n",
    "\n",
    "We can then find all columns that have a correlation to any feature stronger than a given threshold value. We used the mask to set half of the matrix to NA values is that we want to avoid removing both features when they have a strong correlation. \n",
    "\n",
    "```python\n",
    "to_drop = [c for c in tri_df.columns if any(tri_df[c] > 0.95)]\n",
    "\n",
    "print(to_drop)\n",
    "```\n",
    "\n",
    "```text\n",
    "['Suprasternale height', 'Cervicale height']\n",
    "```\n",
    "\n",
    "Finally we drop the selected features from the DataFrame with the `.drop()` method. \n",
    "\n",
    "```python\n",
    "reduced_df = chest_df.drop(to_drop, axis=1)\n",
    "```"
   ]
  },
  {
   "cell_type": "markdown",
   "metadata": {},
   "source": [
    "### Feature extraction as an alternative\n",
    "\n",
    "The method we just discussed is a bit of a brute force approach that should only be applied if you have a good understanding of the dataset. If you're unsure whether removing highly correlated features will remove important information from the data but still need to reduce dimensionality, you could consider feature extraction techniques."
   ]
  },
  {
   "cell_type": "markdown",
   "metadata": {},
   "source": [
    "### Correlation caveats - Anscombe's quartet\n",
    "\n",
    "What's important to know about correlation coefficients is that they can produce weird results when the relation between two features is non-linear or when outliers are involved. \n",
    "\n",
    "For example, the four datasets displayed here, known as **Anscombe's quartet**, all have the same correlation coefficient of 0.82. To avoid unpleasant surprises like this, make sure you visually check your data early on. \n",
    "\n",
    "![alt text](images/anscombes_quartet.png)"
   ]
  },
  {
   "cell_type": "markdown",
   "metadata": {},
   "source": [
    "### Correlation caveats - causation\n",
    "\n",
    "A final thing to know about strong correlations is that they do not imply causation.\n",
    "\n",
    "In this example dataset, the number of firetrucks sent to a fire is correlated to the number of people wounded by that fire. Concluding that the higher number of wounded people is caused by sending more firetrucks would be wrong and even dangerous if used as a reason to send fewer trucks in the future. \n",
    "\n",
    "![alt text](images/firetrucks_vs_wounded.png)"
   ]
  },
  {
   "cell_type": "markdown",
   "metadata": {},
   "source": [
    "#### Filtering out highly correlated features\n",
    "\n",
    "You're going to automate the removal of highly correlated features in the numeric ANSUR dataset. You'll calculate the correlation matrix and filter out columns that have a correlation coefficient of more than 0.95 or less than -0.95.\n",
    "\n",
    "Since each correlation coefficient occurs twice in the matrix (correlation of A to B equals correlation of B to A) you'll want to ignore half of the correlation matrix so that only one of the two correlated features is removed. Use a mask trick for this purpose.\n",
    "\n",
    "##### Instructions\n",
    "\n",
    "* Calculate the correlation matrix of `ansur_df` and take the absolute value of this matrix.\n",
    "* Create a boolean mask with `True` values in the upper right triangle and apply it to the correlation matrix.\n",
    "* Set the correlation coefficient threshold to `0.95`.\n",
    "* Drop all the columns listed in `to_drop` from the DataFrame."
   ]
  },
  {
   "cell_type": "code",
   "execution_count": 11,
   "metadata": {},
   "outputs": [
    {
     "name": "stdout",
     "output_type": "stream",
     "text": [
      "The reduced_df DataFrame has 88 columns.\n"
     ]
    }
   ],
   "source": [
    "ansur_df = pd.read_csv(\"data/ansur_highly_correlated.csv\")\n",
    "\n",
    "# as of pandas 2.0.0 the default value of numeric only is False\n",
    "corr_df = ansur_df.corr(numeric_only=True).abs()\n",
    "\n",
    "mask = np.triu(np.ones_like(corr_df, dtype=bool))\n",
    "tri_df = corr_df.mask(mask)\n",
    "\n",
    "to_drop = [c for c in tri_df.columns if any(tri_df[c] > 0.95)]\n",
    "\n",
    "reduced_df = ansur_df.drop(to_drop, axis=1)\n",
    "\n",
    "print(f\"The reduced_df DataFrame has {reduced_df.shape[1]} columns.\")"
   ]
  },
  {
   "cell_type": "markdown",
   "metadata": {},
   "source": [
    "#### Nuclear energy and pool drownings\n",
    "\n",
    "The dataset that has been pre-loaded for you as `weird_df` contains actual data provided by the US Centers for Disease Control & Prevention and Department of Energy.\n",
    "\n",
    "Let's see if we can find a pattern.\n",
    "\n",
    "Seaborn has been pre-loaded as `sns` and matplotlib.pyplot as `plt`.\n",
    "\n",
    "##### Instructions 1/4\n",
    "\n",
    "* Print the first five lines of `weird_df`."
   ]
  },
  {
   "cell_type": "code",
   "execution_count": 12,
   "metadata": {},
   "outputs": [
    {
     "data": {
      "text/html": [
       "<div>\n",
       "<style scoped>\n",
       "    .dataframe tbody tr th:only-of-type {\n",
       "        vertical-align: middle;\n",
       "    }\n",
       "\n",
       "    .dataframe tbody tr th {\n",
       "        vertical-align: top;\n",
       "    }\n",
       "\n",
       "    .dataframe thead th {\n",
       "        text-align: right;\n",
       "    }\n",
       "</style>\n",
       "<table border=\"1\" class=\"dataframe\">\n",
       "  <thead>\n",
       "    <tr style=\"text-align: right;\">\n",
       "      <th></th>\n",
       "      <th>pool_drownings</th>\n",
       "      <th>nuclear_energy</th>\n",
       "    </tr>\n",
       "  </thead>\n",
       "  <tbody>\n",
       "    <tr>\n",
       "      <th>0</th>\n",
       "      <td>421</td>\n",
       "      <td>728.3</td>\n",
       "    </tr>\n",
       "    <tr>\n",
       "      <th>1</th>\n",
       "      <td>465</td>\n",
       "      <td>753.9</td>\n",
       "    </tr>\n",
       "    <tr>\n",
       "      <th>2</th>\n",
       "      <td>494</td>\n",
       "      <td>768.8</td>\n",
       "    </tr>\n",
       "    <tr>\n",
       "      <th>3</th>\n",
       "      <td>538</td>\n",
       "      <td>780.1</td>\n",
       "    </tr>\n",
       "    <tr>\n",
       "      <th>4</th>\n",
       "      <td>430</td>\n",
       "      <td>763.7</td>\n",
       "    </tr>\n",
       "  </tbody>\n",
       "</table>\n",
       "</div>"
      ],
      "text/plain": [
       "   pool_drownings  nuclear_energy\n",
       "0             421           728.3\n",
       "1             465           753.9\n",
       "2             494           768.8\n",
       "3             538           780.1\n",
       "4             430           763.7"
      ]
     },
     "execution_count": 12,
     "metadata": {},
     "output_type": "execute_result"
    }
   ],
   "source": [
    "weird_df = pd.read_csv(\"data/weird.csv\")\n",
    "\n",
    "weird_df.head()"
   ]
  },
  {
   "cell_type": "markdown",
   "metadata": {},
   "source": [
    "##### Instructions 2/4\n",
    "\n",
    "* Create a scatterplot with nuclear energy production on the x-axis and the number of pool drownings on the y-axis."
   ]
  },
  {
   "cell_type": "code",
   "execution_count": 14,
   "metadata": {},
   "outputs": [
    {
     "data": {
      "text/plain": [
       "<Axes: xlabel='nuclear_energy', ylabel='pool_drownings'>"
      ]
     },
     "execution_count": 14,
     "metadata": {},
     "output_type": "execute_result"
    },
    {
     "data": {
      "image/png": "[encoded data removed]",
      "text/plain": [
       "<Figure size 640x480 with 1 Axes>"
      ]
     },
     "metadata": {},
     "output_type": "display_data"
    }
   ],
   "source": [
    "sns.scatterplot(x=\"nuclear_energy\", y=\"pool_drownings\", data=weird_df)"
   ]
  },
  {
   "cell_type": "markdown",
   "metadata": {},
   "source": [
    "##### Instructions 3/4\n",
    "\n",
    "* Print out the correlation matrix of `weird_df`."
   ]
  },
  {
   "cell_type": "code",
   "execution_count": 15,
   "metadata": {},
   "outputs": [
    {
     "data": {
      "text/html": [
       "<div>\n",
       "<style scoped>\n",
       "    .dataframe tbody tr th:only-of-type {\n",
       "        vertical-align: middle;\n",
       "    }\n",
       "\n",
       "    .dataframe tbody tr th {\n",
       "        vertical-align: top;\n",
       "    }\n",
       "\n",
       "    .dataframe thead th {\n",
       "        text-align: right;\n",
       "    }\n",
       "</style>\n",
       "<table border=\"1\" class=\"dataframe\">\n",
       "  <thead>\n",
       "    <tr style=\"text-align: right;\">\n",
       "      <th></th>\n",
       "      <th>pool_drownings</th>\n",
       "      <th>nuclear_energy</th>\n",
       "    </tr>\n",
       "  </thead>\n",
       "  <tbody>\n",
       "    <tr>\n",
       "      <th>pool_drownings</th>\n",
       "      <td>1.000000</td>\n",
       "      <td>0.901179</td>\n",
       "    </tr>\n",
       "    <tr>\n",
       "      <th>nuclear_energy</th>\n",
       "      <td>0.901179</td>\n",
       "      <td>1.000000</td>\n",
       "    </tr>\n",
       "  </tbody>\n",
       "</table>\n",
       "</div>"
      ],
      "text/plain": [
       "                pool_drownings  nuclear_energy\n",
       "pool_drownings        1.000000        0.901179\n",
       "nuclear_energy        0.901179        1.000000"
      ]
     },
     "execution_count": 15,
     "metadata": {},
     "output_type": "execute_result"
    }
   ],
   "source": [
    "weird_df.corr()"
   ]
  },
  {
   "cell_type": "markdown",
   "metadata": {},
   "source": [
    "##### Instructions 4/4\n",
    "\n",
    "**Question**\n",
    "\n",
    "What can you conclude from the strong correlation (r=0.9) between these features?\n",
    "\n",
    "**Possible answers**\n",
    "\n",
    "1. If the nuclear energy production increases next year I'd better not go swimming.\n",
    "2. You could bring the nuclear energy production down by increasing pool safety.\n",
    "3. To build a Uranium usage forecaster, I should use pool drownings or nuclear energy production as features but not both.\n",
    "4. Not much, correlation does not imply causation.\n",
    "\n",
    "**Answer**\n",
    "\n",
    "4. Not much, correlation does not imply causation."
   ]
  },
  {
   "cell_type": "code",
   "execution_count": null,
   "metadata": {},
   "outputs": [],
   "source": []
  },
  {
   "cell_type": "markdown",
   "metadata": {},
   "source": []
  }
 ],
 "metadata": {
  "kernelspec": {
   "display_name": ".venv",
   "language": "python",
   "name": "python3"
  },
  "language_info": {
   "codemirror_mode": {
    "name": "ipython",
    "version": 3
   },
   "file_extension": ".py",
   "mimetype": "text/x-python",
   "name": "python",
   "nbconvert_exporter": "python",
   "pygments_lexer": "ipython3",
   "version": "3.12.1"
  }
 },
 "nbformat": 4,
 "nbformat_minor": 2
}
