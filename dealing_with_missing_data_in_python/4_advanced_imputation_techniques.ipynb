{
 "cells": [
  {
   "cell_type": "markdown",
   "metadata": {},
   "source": [
    "# Advanced Imputation Techniques\n",
    "\n",
    "Finally, go beyond simple imputation techniques and make the most of your dataset by using advanced imputation techniques that rely on machine learning models, to be able to accurately impute and evaluate your missing data. You will be using methods such as KNN and MICE in order to get the most out of your missing data! "
   ]
  },
  {
   "cell_type": "code",
   "execution_count": null,
   "metadata": {},
   "outputs": [],
   "source": [
    "import pandas as pd\n",
    "from fancyimpute import KNN\n",
    "from fancyimpute import IterativeImputer\n",
    "\n",
    "diabetes = pd.read_csv(\"data/pima_indians_diabetes.csv\")"
   ]
  },
  {
   "cell_type": "markdown",
   "metadata": {},
   "source": [
    "## fancyimpute package\n",
    "\n",
    "`'fancyimpute'` is a package containing several advanced imputation techniques that use machine learning algorithms to impute missing values.\n",
    "\n",
    "In the previous lessons, we used imputation techniques like mean, median and mode imputations or interpolation. In these techniques, only the respective column was utilized for computing and imputing missing values. In contrast, the advanced imputation techniques use other columns as well to predict the missing values and impute them. Think of it as fitting a machine learning model to predict the missing values in a column using the remaining columns. \n",
    "\n",
    "## fancyimpute imputation techniques\n",
    "\n",
    "* K-Nearest Neighbot (KNN)\n",
    "* Multiple Imputation by Chained Equations (MICE)\n",
    "\n",
    "### KNN\n",
    "\n",
    "Finds the most similar data points based on the non-missing features and calculates their average to fill the missing features."
   ]
  },
  {
   "cell_type": "code",
   "execution_count": null,
   "metadata": {},
   "outputs": [],
   "source": [
    "from fancyimpute import KNN\n",
    "\n",
    "diabetes_knn = diabetes.copy(deep=True)\n",
    "knn_imputer = KNN()\n",
    "diabetes_knn.iloc[:, :] = knn_imputer.fit_transform(diabetes_knn)"
   ]
  },
  {
   "cell_type": "markdown",
   "metadata": {},
   "source": [
    "### MICE\n",
    "\n",
    "MICE is a very robust and complex model for imputing missing values.\n",
    "\n",
    "* performs multiple regressions over random samples of the data\n",
    "* averages the values of those regressions\n",
    "* imputes the missing feature values for the data point "
   ]
  },
  {
   "cell_type": "code",
   "execution_count": null,
   "metadata": {},
   "outputs": [],
   "source": [
    "from fancyimpute import IterativeImputer\n",
    "\n",
    "diabetes_mice = diabetes.copy(deep=True)\n",
    "mice_imputer = IterativeImputer()\n",
    "diabetes_mice.iloc[:, :] = mice_imputer.fit_transform(diabetes_mice)"
   ]
  },
  {
   "cell_type": "markdown",
   "metadata": {},
   "source": [
    "#### KNN imputation\n",
    "\n",
    "Datasets always have features which are correlated. Hence, it becomes important to consider them as a factor for imputing missing values. Machine learning models use features in the DataFrame to find correlations and patterns and predict a selected feature.\n",
    "\n",
    "One of the simplest and most efficient models is the K Nearest Neighbors. It finds 'K' points most similar to the existing data points to impute missing values.\n",
    "\n",
    "In this exercise, the `diabetes` DataFrame has already been loaded for you. Use the `fancyimpute` package to impute the missing values in the `diabetes` DataFrame.\n",
    "\n",
    "##### Instructions\n",
    "\n",
    "* Import `KNN` from `fancyimpute`.\n",
    "* Copy `diabetes` to `diabetes_knn_imputed`.\n",
    "* Create a `KNN()` object and assign it to `knn_imputer`.\n",
    "* Impute the `diabetes_knn_imputed` DataFrame."
   ]
  },
  {
   "cell_type": "code",
   "execution_count": null,
   "metadata": {},
   "outputs": [],
   "source": [
    "from fancyimpute import KNN\n",
    "\n",
    "diabetes_knn_imputed = diabetes.copy(deep=True)\n",
    "knn_imputer = KNN(verbose=False)\n",
    "diabetes_knn_imputed.iloc[:, :] = knn_imputer.fit_transform(diabetes_knn_imputed)"
   ]
  },
  {
   "cell_type": "markdown",
   "metadata": {},
   "source": [
    "#### MICE imputation\n",
    "\n",
    "The `fancyimpute` package offers various robust machine learning models for imputing missing values. You can explore the complete list of imputers from the detailed [documentation](https://github.com/iskandr/fancyimpute)]. Here, we will use `IterativeImputer` or popularly called MICE for imputing missing values.\n",
    "\n",
    "The `IterativeImputer` performs multiple regressions on random samples of the data and aggregates for imputing the missing values. You will use the `diabetes` DataFrame for performing this imputation.\n",
    "\n",
    "##### Instructions\n",
    "\n",
    "* Import `IterativeImputer` from `fancyimpute`.\n",
    "* Copy `diabetes` to `diabetes_mice_imputed`.\n",
    "* Create an `IterativeImputer()` object and assign it to `mice_imputer`.\n",
    "* Impute the diabetes_mice_imputed DataFrame.\n"
   ]
  },
  {
   "cell_type": "code",
   "execution_count": null,
   "metadata": {},
   "outputs": [],
   "source": [
    "from fancyimpute import IterativeImputer\n",
    "\n",
    "diabetes_mice_imputed = diabetes.copy(deep=True)\n",
    "mice_imputer = IterativeImputer()\n",
    "diabetes_mice_imputed = mice_imputer.fit_transform(diabetes_mice_imputed)"
   ]
  },
  {
   "cell_type": "markdown",
   "metadata": {},
   "source": [
    "## Imputing categorical values\n",
    "\n",
    "* most categorical values are strings\n",
    "* cannot directly perform imputation operations on strings\n",
    "* must first encode strings as numeric values, then impute\n",
    "\n",
    "## Encoding techniques\n",
    "\n",
    "* one-hot encoding\n",
    "\n",
    "    | Color | Color_Red | Color_ Green | Color_ Blue |\n",
    "    |-------|:---------:|:------------:|:-----------:|\n",
    "    | Red | 1 | 0 | 0 |\n",
    "    | Green | 0 | 1 | 0 |\n",
    "    | Blue | 0 | 0 | 1 |\n",
    "    | Red | 1 | 0 | 0 |\n",
    "    | Blue | 0 | 0 | 1 |\n",
    "    | Blue | 0 | 0 | 1 |\n",
    "\n",
    "* ordinal encoding\n",
    "\n",
    "    | Color | Value |\n",
    "    |-------|:-----:|\n",
    "    | Red | 0 |\n",
    "    | Green | 1 |\n",
    "    | Blue | 2 |\n",
    "    | Red | 0 |\n",
    "    | Blue | 2 |\n",
    "    | Blue | 2 |\n",
    "\n",
    "The most simple way to impute is to fill in the most frequent value as we saw in Chapter 2.\n",
    "\n",
    "Here, however, we will use statistical models like KNN."
   ]
  },
  {
   "cell_type": "code",
   "execution_count": null,
   "metadata": {},
   "outputs": [],
   "source": [
    "import pandas as pd\n",
    "import numpy as np\n",
    "from sklearn.preprocessing import OrdinalEncoder\n",
    "\n",
    "users = pd.read_csv(\"data/userprofile.csv\")\n",
    "\n",
    "users.head()"
   ]
  },
  {
   "cell_type": "markdown",
   "metadata": {},
   "source": [
    "This data set contains only categorical values.\n",
    "\n",
    "Our first step wil be to encode them as numeric values.\n",
    "\n",
    "Caveat: `OrdinalEncoder` does not handle NaNs, so we must filter them out.\n",
    "\n",
    "1. select a categorical variable from the data set ('ambience', will be of type `pd.Series`)\n",
    "1. filter out the nulls leaving a Series of non-null values (`pd.Series`)\n",
    "1. reshape the pd.Series into an x-by-1 ()`ndarray`)\n",
    "1. transform categorical values to numeric\n",
    "1. squeeze the array to remove any axis with length 1, assign the values in the squeezed `ndarray` to the non-null values in 'ambience' in order"
   ]
  },
  {
   "cell_type": "code",
   "execution_count": null,
   "metadata": {},
   "outputs": [],
   "source": [
    "# from sklearn.preprocessing import OrdinalEncoder\n",
    "\n",
    "# ambience_ord_enc = OrdinalEncoder()\n",
    "\n",
    "# ambience = users[\"ambience\"]  # 1\n",
    "# ambience_not_null = ambience[ambience.notnull()]  # 2\n",
    "# reshaped_values = ambience_not_null.values.reshape(-1, 1)  # 3\n",
    "# encoded_vals = ambience_ord_enc.fit_transform(reshaped_values)  # 4\n",
    "# users.loc[ambience.notnull(), \"ambience\"] = np.squeeze(encoded_vals)  # 5"
   ]
  },
  {
   "cell_type": "markdown",
   "metadata": {},
   "source": [
    "We can create a more generalized conversion by looping over all the categorical variables in the data set."
   ]
  },
  {
   "cell_type": "code",
   "execution_count": null,
   "metadata": {},
   "outputs": [],
   "source": [
    "import pandas as pd\n",
    "import numpy as np\n",
    "from sklearn.preprocessing import OrdinalEncoder\n",
    "from fancyimpute import KNN\n",
    "\n",
    "users = pd.read_csv(\"data/userprofile.csv\")\n",
    "\n",
    "# make a deep copy to preserve users for later comparison\n",
    "encoded_users = users.copy(deep=True)\n",
    "\n",
    "# extract just the categorical columns\n",
    "categorical_columns = users.select_dtypes(include=[\"object\"]).columns\n",
    "\n",
    "encoders = {}\n",
    "\n",
    "for col_name in categorical_columns:\n",
    "    encoders[col_name] = OrdinalEncoder()\n",
    "    column = encoded_users[col_name]\n",
    "\n",
    "    non_null_values = column[column.notnull()]\n",
    "    reshaped_values = non_null_values.values.reshape(-1, 1)\n",
    "\n",
    "    encoded_values = encoders[col_name].fit_transform(reshaped_values)\n",
    "\n",
    "    encoded_users.loc[column.notnull(), col_name] = np.squeeze(encoded_values)"
   ]
  },
  {
   "cell_type": "markdown",
   "metadata": {},
   "source": [
    "## Imputing with KNN\n",
    "\n",
    "Our next step is to impute the missing values in the DataFrame. We'll make a copy so we can perform comparisons later."
   ]
  },
  {
   "cell_type": "code",
   "execution_count": null,
   "metadata": {},
   "outputs": [],
   "source": [
    "users_knn_imputed = encoded_users.copy(deep=True)\n",
    "knn_imputer = KNN(verbose=False)\n",
    "\n",
    "users_knn_imputed.iloc[:, :] = np.round(knn_imputer.fit_transform(encoded_users))\n",
    "\n",
    "for col_name in categorical_columns:\n",
    "    reshaped = users_knn_imputed[col_name].values.reshape(-1, 1)\n",
    "\n",
    "    inverted_values = encoders[col_name].inverse_transform(reshaped)\n",
    "    users_knn_imputed[col_name] = np.squeeze(inverted_values)"
   ]
  },
  {
   "cell_type": "markdown",
   "metadata": {},
   "source": [
    "#### Ordinal encoding of a categorical column\n",
    "\n",
    "Imputing categorical values involves a few additional steps over imputing numerical values. You need to first convert them to numerical values as statistical operations cannot be performed on strings.\n",
    "\n",
    "You will use the user profile dataset which contains customer preferences and choices recorded by a restaurant. It contains only categorical features. In this exercise, you will convert the categorical column `'ambience'` to a numerical one using `OrdinalEncoder` from `sklearn`. The DataFrame has been loaded for you as `users`. The function `OrdinalEncoder()` has also been loaded.\n",
    "\n",
    "The `head()` and `tail()` of `users` DataFrame has been printed for you.\n",
    "\n",
    "##### Instructions\n",
    "\n",
    "* Create the ordinal encoder object and assign it to `ambience_ord_enc`.\n",
    "* Select the non-missing values of the `'ambience'` column in `users`.\n",
    "* Reshape `ambience_not_null` to shape `(-1, 1)`.\n",
    "* Replace the non-missing values of `ambience` with its encoded values."
   ]
  },
  {
   "cell_type": "code",
   "execution_count": null,
   "metadata": {},
   "outputs": [],
   "source": [
    "# Set col_name to 'ambience'\n",
    "col_name = \"ambience\"\n",
    "# Create Ordinal encoder\n",
    "ambience_ord_enc = OrdinalEncoder()\n",
    "\n",
    "# Select non-null values of ambience column in users\n",
    "ambience = users[col_name]\n",
    "ambience_not_null = ambience[ambience.notnull()]\n",
    "\n",
    "# Reshape ambience_not_null to shape (-1, 1)\n",
    "reshaped_vals = ambience_not_null.values.reshape(-1, 1)\n",
    "\n",
    "# Select the non-null values for the column col_name in users and store the encoded values\n",
    "encoded_vals = ambience_ord_enc.fit_transform(reshaped_vals)\n",
    "users.loc[ambience.notnull(), col_name] = np.squeeze(encoded_vals)"
   ]
  },
  {
   "cell_type": "markdown",
   "metadata": {},
   "source": [
    "#### Ordinal encoding of a DataFrame\n",
    "\n",
    "Categorical features can be encoded using two techniques namely, one-hot encoding and ordinal encoding. In one-hot encoding, each category becomes a column and the respective category column for each row is 1 and the others 0. In ordinal encoding, the categories are mapped to integer values starting from 0 to number of categories.\n",
    "\n",
    "In this exercise, you will loop over all the columns in the `users` DataFrame to ordinally encode the categories. You will also store an encoder for each column in a dictionary `ordinal_enc_dict` so that the encoded columns can be converted back to the original categories.\n",
    "\n",
    "##### Instructions\n",
    "\n",
    "* Define an empty dictionary `ordinal_enc_dict`.\n",
    "* Create an Ordinal Encoder object for each column.\n",
    "* Select non-null values of column in users and encode them.\n",
    "* Assign back the encoded values to non-null values of each column (`col_name`) in users."
   ]
  },
  {
   "cell_type": "code",
   "execution_count": null,
   "metadata": {},
   "outputs": [],
   "source": [
    "# Create an empty dictionary ordinal_enc_dict\n",
    "ordinal_enc_dict = {}\n",
    "\n",
    "for col_name in users:\n",
    "    # Create Ordinal encoder for col\n",
    "    ordinal_enc_dict[col_name] = OrdinalEncoder()\n",
    "    col = users[col_name]\n",
    "\n",
    "    # Select non-null values of col\n",
    "    col_not_null = col[col.notnull()]\n",
    "    reshaped_vals = col_not_null.values.reshape(-1, 1)\n",
    "    encoded_vals = ordinal_enc_dict[col_name].fit_transform(reshaped_vals)\n",
    "\n",
    "    # Select the non-null values for the column col_name in users and store the encoded values\n",
    "    users.loc[col.notnull(), col_name] = np.squeeze(encoded_vals)"
   ]
  },
  {
   "cell_type": "markdown",
   "metadata": {},
   "source": [
    "#### KNN imputation of categorical values\n",
    "\n",
    "Once all the categorical columns in the DataFrame have been converted to ordinal values, the DataFrame is ready to be imputed. Imputing using statistical models like K-Nearest Neighbors (KNN) provides better imputations.\n",
    "\n",
    "In this exercise, you'll\n",
    "\n",
    "1. Use the `KNN()` function from `fancyimpute` to impute the missing values in the ordinally encoded DataFrame `users`.\n",
    "1. Convert the ordinal values back to their respective categories using the ordinal encoder's `.inverse_transform()` method.\n",
    "\n",
    "Remember, `ordinal_enc_dict` stores `sklearn`'s `OrdinalEncoder()` for each column. The `users` DataFrame stores the encoded values (ordinal values) for each column.\n",
    "\n",
    "The `KNN()` function, the dictionary of `OrdinalEncoder()`s `ordinal_enc_dict` and the `users` DataFrame have already been loaded for you.\n",
    "\n",
    "##### Instructions\n",
    "\n",
    "* Impute the `users` DataFrame using `KNN_imputer`'s `fit_transform()` method. These transformed values are rounded to get integers.\n",
    "* Iterate over columns in `users`.\n",
    "* Select the column's `OrdinalEncoder()` from `ordinal_enc_dict` and perform `.inverse_transform()` on the reshaped array `reshaped`."
   ]
  },
  {
   "cell_type": "code",
   "execution_count": null,
   "metadata": {},
   "outputs": [],
   "source": [
    "# Create KNN imputer\n",
    "KNN_imputer = KNN(verbose=False)\n",
    "\n",
    "# Impute 'users' DataFrame. It is rounded to get integer values\n",
    "users_KNN_imputed.iloc[:, :] = np.round(KNN_imputer.fit_transform(users))\n",
    "\n",
    "# Loop over the column names in 'users'\n",
    "for col_name in users:\n",
    "    # Reshape the column data\n",
    "    reshaped = users_KNN_imputed[col_name].values.reshape(-1, 1)\n",
    "\n",
    "    # Select the column's Encoder and perform inverse transform on 'reshaped'\n",
    "    users_KNN_imputed[col_name] = ordinal_enc_dict[col_name].inverse_transform(reshaped)"
   ]
  },
  {
   "cell_type": "markdown",
   "metadata": {},
   "source": [
    "## Evaluation of different imputation techniques\n",
    "\n",
    "We impute missing data in order to improve model performance and decrease bias.\n",
    "\n",
    "A good way to measure the quality of imputations is to look at how a machine learning model performs against each imputation. The imputation with the maximum machine learning model is selected.\n",
    "\n",
    "### Evaluation techniques\n",
    "\n",
    "* Linear regression\n",
    "* Comparing the density plot of the imputation against that of the original data to see which are most simiar\n",
    "\n",
    " We can use the `statsmodels` library"
   ]
  },
  {
   "cell_type": "code",
   "execution_count": 1,
   "metadata": {},
   "outputs": [
    {
     "data": {
      "text/html": [
       "<table class=\"simpletable\">\n",
       "<caption>OLS Regression Results</caption>\n",
       "<tr>\n",
       "  <th>Dep. Variable:</th>          <td>Class</td>      <th>  R-squared:         </th> <td>   0.346</td>\n",
       "</tr>\n",
       "<tr>\n",
       "  <th>Model:</th>                   <td>OLS</td>       <th>  Adj. R-squared:    </th> <td>   0.332</td>\n",
       "</tr>\n",
       "<tr>\n",
       "  <th>Method:</th>             <td>Least Squares</td>  <th>  F-statistic:       </th> <td>   25.30</td>\n",
       "</tr>\n",
       "<tr>\n",
       "  <th>Date:</th>             <td>Thu, 01 Feb 2024</td> <th>  Prob (F-statistic):</th> <td>2.65e-31</td>\n",
       "</tr>\n",
       "<tr>\n",
       "  <th>Time:</th>                 <td>15:12:03</td>     <th>  Log-Likelihood:    </th> <td> -177.76</td>\n",
       "</tr>\n",
       "<tr>\n",
       "  <th>No. Observations:</th>      <td>   392</td>      <th>  AIC:               </th> <td>   373.5</td>\n",
       "</tr>\n",
       "<tr>\n",
       "  <th>Df Residuals:</th>          <td>   383</td>      <th>  BIC:               </th> <td>   409.3</td>\n",
       "</tr>\n",
       "<tr>\n",
       "  <th>Df Model:</th>              <td>     8</td>      <th>                     </th>     <td> </td>   \n",
       "</tr>\n",
       "<tr>\n",
       "  <th>Covariance Type:</th>      <td>nonrobust</td>    <th>                     </th>     <td> </td>   \n",
       "</tr>\n",
       "</table>\n",
       "<table class=\"simpletable\">\n",
       "<tr>\n",
       "          <td></td>             <th>coef</th>     <th>std err</th>      <th>t</th>      <th>P>|t|</th>  <th>[0.025</th>    <th>0.975]</th>  \n",
       "</tr>\n",
       "<tr>\n",
       "  <th>const</th>             <td>   -1.1027</td> <td>    0.144</td> <td>   -7.681</td> <td> 0.000</td> <td>   -1.385</td> <td>   -0.820</td>\n",
       "</tr>\n",
       "<tr>\n",
       "  <th>Pregnant</th>          <td>    0.0130</td> <td>    0.008</td> <td>    1.549</td> <td> 0.122</td> <td>   -0.003</td> <td>    0.029</td>\n",
       "</tr>\n",
       "<tr>\n",
       "  <th>Glucose</th>           <td>    0.0064</td> <td>    0.001</td> <td>    7.855</td> <td> 0.000</td> <td>    0.005</td> <td>    0.008</td>\n",
       "</tr>\n",
       "<tr>\n",
       "  <th>Diastolic_BP</th>      <td> 5.465e-05</td> <td>    0.002</td> <td>    0.032</td> <td> 0.975</td> <td>   -0.003</td> <td>    0.003</td>\n",
       "</tr>\n",
       "<tr>\n",
       "  <th>Skin_Fold</th>         <td>    0.0017</td> <td>    0.003</td> <td>    0.665</td> <td> 0.506</td> <td>   -0.003</td> <td>    0.007</td>\n",
       "</tr>\n",
       "<tr>\n",
       "  <th>Serum_Insulin</th>     <td>   -0.0001</td> <td>    0.000</td> <td>   -0.603</td> <td> 0.547</td> <td>   -0.001</td> <td>    0.000</td>\n",
       "</tr>\n",
       "<tr>\n",
       "  <th>BMI</th>               <td>    0.0093</td> <td>    0.004</td> <td>    2.391</td> <td> 0.017</td> <td>    0.002</td> <td>    0.017</td>\n",
       "</tr>\n",
       "<tr>\n",
       "  <th>Diabetes_Pedigree</th> <td>    0.1572</td> <td>    0.058</td> <td>    2.708</td> <td> 0.007</td> <td>    0.043</td> <td>    0.271</td>\n",
       "</tr>\n",
       "<tr>\n",
       "  <th>Age</th>               <td>    0.0059</td> <td>    0.003</td> <td>    2.109</td> <td> 0.036</td> <td>    0.000</td> <td>    0.011</td>\n",
       "</tr>\n",
       "</table>\n",
       "<table class=\"simpletable\">\n",
       "<tr>\n",
       "  <th>Omnibus:</th>       <td> 9.511</td> <th>  Durbin-Watson:     </th> <td>   1.920</td>\n",
       "</tr>\n",
       "<tr>\n",
       "  <th>Prob(Omnibus):</th> <td> 0.009</td> <th>  Jarque-Bera (JB):  </th> <td>   9.387</td>\n",
       "</tr>\n",
       "<tr>\n",
       "  <th>Skew:</th>          <td> 0.344</td> <th>  Prob(JB):          </th> <td> 0.00916</td>\n",
       "</tr>\n",
       "<tr>\n",
       "  <th>Kurtosis:</th>      <td> 2.682</td> <th>  Cond. No.          </th> <td>1.77e+03</td>\n",
       "</tr>\n",
       "</table><br/><br/>Notes:<br/>[1] Standard Errors assume that the covariance matrix of the errors is correctly specified.<br/>[2] The condition number is large, 1.77e+03. This might indicate that there are<br/>strong multicollinearity or other numerical problems."
      ],
      "text/latex": [
       "\\begin{center}\n",
       "\\begin{tabular}{lclc}\n",
       "\\toprule\n",
       "\\textbf{Dep. Variable:}     &      Class       & \\textbf{  R-squared:         } &     0.346   \\\\\n",
       "\\textbf{Model:}             &       OLS        & \\textbf{  Adj. R-squared:    } &     0.332   \\\\\n",
       "\\textbf{Method:}            &  Least Squares   & \\textbf{  F-statistic:       } &     25.30   \\\\\n",
       "\\textbf{Date:}              & Thu, 01 Feb 2024 & \\textbf{  Prob (F-statistic):} &  2.65e-31   \\\\\n",
       "\\textbf{Time:}              &     15:12:03     & \\textbf{  Log-Likelihood:    } &   -177.76   \\\\\n",
       "\\textbf{No. Observations:}  &         392      & \\textbf{  AIC:               } &     373.5   \\\\\n",
       "\\textbf{Df Residuals:}      &         383      & \\textbf{  BIC:               } &     409.3   \\\\\n",
       "\\textbf{Df Model:}          &           8      & \\textbf{                     } &             \\\\\n",
       "\\textbf{Covariance Type:}   &    nonrobust     & \\textbf{                     } &             \\\\\n",
       "\\bottomrule\n",
       "\\end{tabular}\n",
       "\\begin{tabular}{lcccccc}\n",
       "                            & \\textbf{coef} & \\textbf{std err} & \\textbf{t} & \\textbf{P$> |$t$|$} & \\textbf{[0.025} & \\textbf{0.975]}  \\\\\n",
       "\\midrule\n",
       "\\textbf{const}              &      -1.1027  &        0.144     &    -7.681  &         0.000        &       -1.385    &       -0.820     \\\\\n",
       "\\textbf{Pregnant}           &       0.0130  &        0.008     &     1.549  &         0.122        &       -0.003    &        0.029     \\\\\n",
       "\\textbf{Glucose}            &       0.0064  &        0.001     &     7.855  &         0.000        &        0.005    &        0.008     \\\\\n",
       "\\textbf{Diastolic\\_BP}      &    5.465e-05  &        0.002     &     0.032  &         0.975        &       -0.003    &        0.003     \\\\\n",
       "\\textbf{Skin\\_Fold}         &       0.0017  &        0.003     &     0.665  &         0.506        &       -0.003    &        0.007     \\\\\n",
       "\\textbf{Serum\\_Insulin}     &      -0.0001  &        0.000     &    -0.603  &         0.547        &       -0.001    &        0.000     \\\\\n",
       "\\textbf{BMI}                &       0.0093  &        0.004     &     2.391  &         0.017        &        0.002    &        0.017     \\\\\n",
       "\\textbf{Diabetes\\_Pedigree} &       0.1572  &        0.058     &     2.708  &         0.007        &        0.043    &        0.271     \\\\\n",
       "\\textbf{Age}                &       0.0059  &        0.003     &     2.109  &         0.036        &        0.000    &        0.011     \\\\\n",
       "\\bottomrule\n",
       "\\end{tabular}\n",
       "\\begin{tabular}{lclc}\n",
       "\\textbf{Omnibus:}       &  9.511 & \\textbf{  Durbin-Watson:     } &    1.920  \\\\\n",
       "\\textbf{Prob(Omnibus):} &  0.009 & \\textbf{  Jarque-Bera (JB):  } &    9.387  \\\\\n",
       "\\textbf{Skew:}          &  0.344 & \\textbf{  Prob(JB):          } &  0.00916  \\\\\n",
       "\\textbf{Kurtosis:}      &  2.682 & \\textbf{  Cond. No.          } & 1.77e+03  \\\\\n",
       "\\bottomrule\n",
       "\\end{tabular}\n",
       "%\\caption{OLS Regression Results}\n",
       "\\end{center}\n",
       "\n",
       "Notes: \\newline\n",
       " [1] Standard Errors assume that the covariance matrix of the errors is correctly specified. \\newline\n",
       " [2] The condition number is large, 1.77e+03. This might indicate that there are \\newline\n",
       " strong multicollinearity or other numerical problems."
      ],
      "text/plain": [
       "<class 'statsmodels.iolib.summary.Summary'>\n",
       "\"\"\"\n",
       "                            OLS Regression Results                            \n",
       "==============================================================================\n",
       "Dep. Variable:                  Class   R-squared:                       0.346\n",
       "Model:                            OLS   Adj. R-squared:                  0.332\n",
       "Method:                 Least Squares   F-statistic:                     25.30\n",
       "Date:                Thu, 01 Feb 2024   Prob (F-statistic):           2.65e-31\n",
       "Time:                        15:12:03   Log-Likelihood:                -177.76\n",
       "No. Observations:                 392   AIC:                             373.5\n",
       "Df Residuals:                     383   BIC:                             409.3\n",
       "Df Model:                           8                                         \n",
       "Covariance Type:            nonrobust                                         \n",
       "=====================================================================================\n",
       "                        coef    std err          t      P>|t|      [0.025      0.975]\n",
       "-------------------------------------------------------------------------------------\n",
       "const                -1.1027      0.144     -7.681      0.000      -1.385      -0.820\n",
       "Pregnant              0.0130      0.008      1.549      0.122      -0.003       0.029\n",
       "Glucose               0.0064      0.001      7.855      0.000       0.005       0.008\n",
       "Diastolic_BP       5.465e-05      0.002      0.032      0.975      -0.003       0.003\n",
       "Skin_Fold             0.0017      0.003      0.665      0.506      -0.003       0.007\n",
       "Serum_Insulin        -0.0001      0.000     -0.603      0.547      -0.001       0.000\n",
       "BMI                   0.0093      0.004      2.391      0.017       0.002       0.017\n",
       "Diabetes_Pedigree     0.1572      0.058      2.708      0.007       0.043       0.271\n",
       "Age                   0.0059      0.003      2.109      0.036       0.000       0.011\n",
       "==============================================================================\n",
       "Omnibus:                        9.511   Durbin-Watson:                   1.920\n",
       "Prob(Omnibus):                  0.009   Jarque-Bera (JB):                9.387\n",
       "Skew:                           0.344   Prob(JB):                      0.00916\n",
       "Kurtosis:                       2.682   Cond. No.                     1.77e+03\n",
       "==============================================================================\n",
       "\n",
       "Notes:\n",
       "[1] Standard Errors assume that the covariance matrix of the errors is correctly specified.\n",
       "[2] The condition number is large, 1.77e+03. This might indicate that there are\n",
       "strong multicollinearity or other numerical problems.\n",
       "\"\"\""
      ]
     },
     "execution_count": 1,
     "metadata": {},
     "output_type": "execute_result"
    }
   ],
   "source": [
    "import pandas as pd\n",
    "import statsmodels.api as sm\n",
    "\n",
    "diabetes = pd.read_csv(\"data/pima_indians_diabetes.csv\")\n",
    "\n",
    "diabetes_cc = diabetes.dropna(how=\"any\")  # diabetes complete case\n",
    "X = sm.add_constant(diabetes_cc.iloc[:, :-1])  # exclude the target column, 'Class'\n",
    "y = diabetes_cc[\"Class\"]\n",
    "lm = sm.OLS(y, X).fit()  # train the linear model\n",
    "\n",
    "lm.summary()"
   ]
  },
  {
   "cell_type": "markdown",
   "metadata": {},
   "source": [
    "The adjusted R-squared and teh coefficients can be used to evaluate the model's performance.\n",
    "\n",
    "R-squared measures the accuracy of the machine learning model, the coefficients explain the weights of different features in the data.\n",
    "\n",
    "The higher the R-squared the better the model. We can get the R-Squared and coefficients of the model with the attributes `lm.rsquared_adj` and `lm.params` respectively."
   ]
  },
  {
   "cell_type": "code",
   "execution_count": null,
   "metadata": {},
   "outputs": [],
   "source": [
    "lm.rsquared_adj"
   ]
  },
  {
   "cell_type": "code",
   "execution_count": null,
   "metadata": {},
   "outputs": [],
   "source": [
    "lm.params"
   ]
  },
  {
   "cell_type": "markdown",
   "metadata": {},
   "source": [
    "Fit linear model on different imputed DataFrames"
   ]
  },
  {
   "cell_type": "code",
   "execution_count": 3,
   "metadata": {},
   "outputs": [],
   "source": [
    "from sklearn.impute import SimpleImputer\n",
    "from fancyimpute import KNN\n",
    "from fancyimpute import IterativeImputer\n",
    "\n",
    "diabetes_mean = diabetes.copy(deep=True)\n",
    "mean_imputer = SimpleImputer(strategy=\"mean\")\n",
    "diabetes_mean.iloc[:, :] = mean_imputer.fit_transform(diabetes_mean)\n",
    "\n",
    "diabetes_knn = diabetes.copy(deep=True)\n",
    "knn_imputer = KNN(verbose=False)\n",
    "diabetes_knn.iloc[:, :] = knn_imputer.fit_transform(diabetes_knn)\n",
    "\n",
    "diabetes_mice = diabetes.copy(deep=True)\n",
    "mice_imputer = IterativeImputer()\n",
    "diabetes_mice.iloc[:, :] = mice_imputer.fit_transform(diabetes_mice)"
   ]
  },
  {
   "cell_type": "code",
   "execution_count": 4,
   "metadata": {},
   "outputs": [],
   "source": [
    "# mean imputation\n",
    "X = sm.add_constant(diabetes_mean.iloc[:, :-1])\n",
    "y = diabetes[\"Class\"]\n",
    "lm_mean = sm.OLS(y, X).fit()\n",
    "\n",
    "# KNN imputation\n",
    "X = sm.add_constant(diabetes_knn.iloc[:, :-1])\n",
    "y = diabetes[\"Class\"]\n",
    "lm_knn = sm.OLS(y, X).fit()\n",
    "\n",
    "# MICE imputation\n",
    "X = sm.add_constant(diabetes_mice.iloc[:, :-1])\n",
    "y = diabetes[\"Class\"]\n",
    "lm_mice = sm.OLS(y, X).fit()"
   ]
  },
  {
   "cell_type": "markdown",
   "metadata": {},
   "source": [
    "### Comparing R-squared of different\n",
    "\n",
    "WE can compare all the R-squares by creating a temporary DataFrame for cleaning printing their values."
   ]
  },
  {
   "cell_type": "code",
   "execution_count": 7,
   "metadata": {},
   "outputs": [
    {
     "name": "stdout",
     "output_type": "stream",
     "text": [
      "               Complete  Mean Imp.  KNN Imp.  MICE Imp.\n",
      "R_squared_adj  0.332108   0.313781  0.316505   0.316534\n"
     ]
    }
   ],
   "source": [
    "print(\n",
    "    pd.DataFrame(\n",
    "        {\n",
    "            \"Complete\": lm.rsquared_adj,\n",
    "            \"Mean Imp.\": lm_mean.rsquared_adj,\n",
    "            \"KNN Imp.\": lm_knn.rsquared_adj,\n",
    "            \"MICE Imp.\": lm_mice.rsquared_adj,\n",
    "        },\n",
    "        index=[\"R_squared_adj\"],\n",
    "    )\n",
    ")"
   ]
  },
  {
   "cell_type": "markdown",
   "metadata": {},
   "source": [
    "Note that mean imputation has the least R-squared as it imputes the same mean value throughout a column. The complete case has the highest R-squared as half the rows (those with missing values) have been dropped for fitting the linear model. \n",
    "\n",
    "We can similarly compare the coefficients of each of the imputations."
   ]
  },
  {
   "cell_type": "code",
   "execution_count": 8,
   "metadata": {},
   "outputs": [
    {
     "name": "stdout",
     "output_type": "stream",
     "text": [
      "                   Complete  Mean Imp  KNN Imp.  MICE Imp.\n",
      "const             -1.102677 -1.024005 -1.027586  -1.035018\n",
      "Pregnant           0.012953  0.020693  0.020074   0.020380\n",
      "Glucose            0.006409  0.006467  0.006593   0.006638\n",
      "Diastolic_BP       0.000055 -0.001137 -0.001191  -0.001220\n",
      "Skin_Fold          0.001678  0.000193  0.001744   0.000569\n",
      "Serum_Insulin     -0.000123 -0.000090 -0.000129  -0.000116\n",
      "BMI                0.009325  0.014376  0.013103   0.014147\n",
      "Diabetes_Pedigree  0.157192  0.129282  0.127763   0.127947\n",
      "Age                0.005878  0.002092  0.002036   0.002051\n"
     ]
    }
   ],
   "source": [
    "print(\n",
    "    pd.DataFrame(\n",
    "        {\n",
    "            \"Complete\": lm.params,\n",
    "            \"Mean Imp\": lm_mean.params,\n",
    "            \"KNN Imp.\": lm_knn.params,\n",
    "            \"MICE Imp.\": lm_mice.params,\n",
    "        }\n",
    "    )\n",
    ")"
   ]
  },
  {
   "cell_type": "markdown",
   "metadata": {},
   "source": [
    "The columns `Glucose`, `Diastolic_BP`, `Skin_Fold`, `Serum_Insulin` and `BMI` show that the imputed values add more weight to reinforce these features in the imputations. "
   ]
  },
  {
   "cell_type": "markdown",
   "metadata": {},
   "source": [
    "### Comparing density plots"
   ]
  },
  {
   "cell_type": "code",
   "execution_count": 10,
   "metadata": {},
   "outputs": [
    {
     "data": {
      "text/plain": [
       "Text(0.5, 0, 'Skin Fold')"
      ]
     },
     "execution_count": 10,
     "metadata": {},
     "output_type": "execute_result"
    },
    {
     "data": {
      "image/png": "[encoded data removed]",
      "text/plain": [
       "<Figure size 640x480 with 1 Axes>"
      ]
     },
     "metadata": {},
     "output_type": "display_data"
    }
   ],
   "source": [
    "import matplotlib.pyplot as plt\n",
    "\n",
    "diabetes_cc[\"Skin_Fold\"].plot(kind=\"kde\", c=\"red\", linewidth=3)\n",
    "diabetes_mean[\"Skin_Fold\"].plot(kind=\"kde\")\n",
    "diabetes_knn[\"Skin_Fold\"].plot(kind=\"kde\")\n",
    "diabetes_mice[\"Skin_Fold\"].plot(kind=\"kde\")\n",
    "\n",
    "labels = [\"Baseline (Complete Case)\", \"Mean Imputation\", \"KNN Imputation\", \"MICE Imputation\"]\n",
    "plt.legend(labels)\n",
    "plt.xlabel(\"Skin Fold\")"
   ]
  },
  {
   "cell_type": "markdown",
   "metadata": {},
   "source": [
    "Note that the mean imputation is completely out of shape as compared to the other imputations. The KNN and MICE imputations are much more identical to the base DataFrame with the peak of MICE imputation being slightly shifted! "
   ]
  },
  {
   "cell_type": "markdown",
   "metadata": {},
   "source": [
    "#### Analyze the summary of linear model\n",
    "\n",
    "Analyzing the performance of the different imputed models is one of the most significant tasks in dealing with missing data. It determines, the type of imputed DataFrame you can rely upon. For analysis, you can fit a linear regression model on the imputed DataFrame and check for various parameters that impact the selection of the imputation type.\n",
    "\n",
    "In this exercise, you have already been loaded with the DataFrame `diabetes_cc` which is the complete case of diabetes DataFrame. The complete case acts as a base for comparison against other imputed DataFrames. You will use the package `statsmodels.api` loaded as `sm` for creating a linear regression model and generating summaries.\n",
    "\n",
    "##### Instructions 1/4\n",
    "\n",
    "* Set all features in the DataFrame `diabetes_cc` as `X` by adding a constant, while excluding and setting the `'Class'` column as y."
   ]
  },
  {
   "cell_type": "code",
   "execution_count": 1,
   "metadata": {},
   "outputs": [],
   "source": [
    "# setup\n",
    "import pandas as pd\n",
    "import statsmodels.api as sm\n",
    "\n",
    "from sklearn.impute import SimpleImputer\n",
    "from fancyimpute import KNN\n",
    "from fancyimpute import IterativeImputer\n",
    "\n",
    "diabetes = pd.read_csv(\"data/pima_indians_diabetes.csv\")\n",
    "\n",
    "diabetes_mean = diabetes.copy(deep=True)\n",
    "mean_imputer = SimpleImputer(strategy=\"mean\")\n",
    "diabetes_mean.iloc[:, :] = mean_imputer.fit_transform(diabetes_mean)\n",
    "\n",
    "diabetes_knn = diabetes.copy(deep=True)\n",
    "knn_imputer = KNN(verbose=False)\n",
    "diabetes_knn.iloc[:, :] = knn_imputer.fit_transform(diabetes_knn)\n",
    "\n",
    "diabetes_mice = diabetes.copy(deep=True)\n",
    "mice_imputer = IterativeImputer()\n",
    "diabetes_mice.iloc[:, :] = mice_imputer.fit_transform(diabetes_mice)"
   ]
  },
  {
   "cell_type": "code",
   "execution_count": 2,
   "metadata": {},
   "outputs": [],
   "source": [
    "diabetes_cc = diabetes.dropna(how=\"any\")\n",
    "X = sm.add_constant(diabetes_cc.iloc[:, :-1])\n",
    "y = diabetes_cc[\"Class\"]\n",
    "lm = sm.OLS(y, X).fit()"
   ]
  },
  {
   "cell_type": "markdown",
   "metadata": {},
   "source": [
    "##### Instructions 2/4\n",
    "\n",
    "* Print the summary of the linear model `lm`."
   ]
  },
  {
   "cell_type": "code",
   "execution_count": 5,
   "metadata": {},
   "outputs": [
    {
     "name": "stdout",
     "output_type": "stream",
     "text": [
      "                            OLS Regression Results                            \n",
      "==============================================================================\n",
      "Dep. Variable:                  Class   R-squared:                       0.346\n",
      "Model:                            OLS   Adj. R-squared:                  0.332\n",
      "Method:                 Least Squares   F-statistic:                     25.30\n",
      "Date:                Thu, 01 Feb 2024   Prob (F-statistic):           2.65e-31\n",
      "Time:                        15:42:38   Log-Likelihood:                -177.76\n",
      "No. Observations:                 392   AIC:                             373.5\n",
      "Df Residuals:                     383   BIC:                             409.3\n",
      "Df Model:                           8                                         \n",
      "Covariance Type:            nonrobust                                         \n",
      "=====================================================================================\n",
      "                        coef    std err          t      P>|t|      [0.025      0.975]\n",
      "-------------------------------------------------------------------------------------\n",
      "const                -1.1027      0.144     -7.681      0.000      -1.385      -0.820\n",
      "Pregnant              0.0130      0.008      1.549      0.122      -0.003       0.029\n",
      "Glucose               0.0064      0.001      7.855      0.000       0.005       0.008\n",
      "Diastolic_BP       5.465e-05      0.002      0.032      0.975      -0.003       0.003\n",
      "Skin_Fold             0.0017      0.003      0.665      0.506      -0.003       0.007\n",
      "Serum_Insulin        -0.0001      0.000     -0.603      0.547      -0.001       0.000\n",
      "BMI                   0.0093      0.004      2.391      0.017       0.002       0.017\n",
      "Diabetes_Pedigree     0.1572      0.058      2.708      0.007       0.043       0.271\n",
      "Age                   0.0059      0.003      2.109      0.036       0.000       0.011\n",
      "==============================================================================\n",
      "Omnibus:                        9.511   Durbin-Watson:                   1.920\n",
      "Prob(Omnibus):                  0.009   Jarque-Bera (JB):                9.387\n",
      "Skew:                           0.344   Prob(JB):                      0.00916\n",
      "Kurtosis:                       2.682   Cond. No.                     1.77e+03\n",
      "==============================================================================\n",
      "\n",
      "Notes:\n",
      "[1] Standard Errors assume that the covariance matrix of the errors is correctly specified.\n",
      "[2] The condition number is large, 1.77e+03. This might indicate that there are\n",
      "strong multicollinearity or other numerical problems.\n"
     ]
    }
   ],
   "source": [
    "print(lm.summary())"
   ]
  },
  {
   "cell_type": "markdown",
   "metadata": {},
   "source": [
    "##### Instructions 3/4\n",
    "\n",
    "* Print the adjusted R-squared score of linear model `lm`."
   ]
  },
  {
   "cell_type": "code",
   "execution_count": 6,
   "metadata": {},
   "outputs": [
    {
     "name": "stdout",
     "output_type": "stream",
     "text": [
      "\n",
      "Adjusted R-squared score:  0.33210805003287613\n"
     ]
    }
   ],
   "source": [
    "print(\"\\nAdjusted R-squared score: \", lm.rsquared_adj)"
   ]
  },
  {
   "cell_type": "markdown",
   "metadata": {},
   "source": [
    "##### Instructions 4/4\n",
    "\n",
    "* Print the .params of the linear model."
   ]
  },
  {
   "cell_type": "code",
   "execution_count": 7,
   "metadata": {},
   "outputs": [
    {
     "name": "stdout",
     "output_type": "stream",
     "text": [
      "\n",
      "Coefficcients:\n",
      " const               -1.102677\n",
      "Pregnant             0.012953\n",
      "Glucose              0.006409\n",
      "Diastolic_BP         0.000055\n",
      "Skin_Fold            0.001678\n",
      "Serum_Insulin       -0.000123\n",
      "BMI                  0.009325\n",
      "Diabetes_Pedigree    0.157192\n",
      "Age                  0.005878\n",
      "dtype: float64\n"
     ]
    }
   ],
   "source": [
    "print(\"\\nCoefficcients:\\n\", lm.params)"
   ]
  },
  {
   "cell_type": "markdown",
   "metadata": {},
   "source": [
    "#### Comparing and choosing the best adjusted R-squared\n",
    "\n",
    "During the analysis of imputed DataFrames on a linear model, the adjusted R-squared ($adj. R^2$) score that explains the best fit model.\n",
    "\n",
    "In this exercise, you will compare the $adj. R^2$ scores of the ***linear models*** (for each of the imputed datasets) you created earlier, namely `lm_mean`, `lm_KNN` and `lm_MICE` respectively.\n",
    "\n",
    "You will first neatly print (by creating a DataFrame) their attributes `rsquared_adj` and finally choose the model with maximum $adj. R^2$.\n",
    "\n",
    "The above models have already been loaded for you as `lm_mean`, `lm_KNN` and `lm_MICE`.\n",
    "\n",
    "##### Instructions 1/2\n",
    "* Use the `.rsquared_adj` attribute on each of the models `lm_mean`, `lm_KNN` and `lm_MICE` to create `rsquared_df`."
   ]
  },
  {
   "cell_type": "code",
   "execution_count": 8,
   "metadata": {},
   "outputs": [],
   "source": [
    "# setup\n",
    "X = sm.add_constant(diabetes_mean.iloc[:, :-1])\n",
    "y = diabetes[\"Class\"]\n",
    "lm_mean = sm.OLS(y, X).fit()\n",
    "\n",
    "X = sm.add_constant(diabetes_knn.iloc[:, :-1])\n",
    "y = diabetes[\"Class\"]\n",
    "lm_knn = sm.OLS(y, X).fit()\n",
    "\n",
    "X = sm.add_constant(diabetes_mice.iloc[:, :-1])\n",
    "y = diabetes[\"Class\"]\n",
    "lm_mice = sm.OLS(y, X).fit()"
   ]
  },
  {
   "cell_type": "code",
   "execution_count": 10,
   "metadata": {},
   "outputs": [
    {
     "name": "stdout",
     "output_type": "stream",
     "text": [
      "                Mean Imputation  KNN Imputation  MICE Imputation\n",
      "Adj. R-squared         0.313781        0.316505         0.316534\n"
     ]
    }
   ],
   "source": [
    "rsquared_df = pd.DataFrame(\n",
    "    {\n",
    "        \"Mean Imputation\": lm_mean.rsquared_adj,\n",
    "        \"KNN Imputation\": lm_knn.rsquared_adj,\n",
    "        \"MICE Imputation\": lm_mice.rsquared_adj,\n",
    "    },\n",
    "    index=[\"Adj. R-squared\"],\n",
    ")\n",
    "\n",
    "print(rsquared_df)"
   ]
  },
  {
   "cell_type": "markdown",
   "metadata": {},
   "source": [
    "* Use the `max()` function to get the best R-squared from `rsquared_df`. The `key=rsquared_df.get` gets the respective score."
   ]
  },
  {
   "cell_type": "code",
   "execution_count": 16,
   "metadata": {},
   "outputs": [
    {
     "name": "stdout",
     "output_type": "stream",
     "text": [
      "The best imputation technique is:  MICE Imputation\n"
     ]
    }
   ],
   "source": [
    "# best_imputation = max(rsquared_df, key=rsquared_df.get)\n",
    "best_imputation = rsquared_df.idxmax(axis=1)\n",
    "\n",
    "print(\"The best imputation technique is: \", best_imputation[\"Adj. R-squared\"])"
   ]
  },
  {
   "cell_type": "markdown",
   "metadata": {},
   "source": [
    "#### Comparing density plots\n",
    "\n",
    "The different imputations that you have performed previously *can be graphically compared with their density plots*. From these plots, you will be able to easily analyze and find the dataset that has the most similar distribution when compared to the original dataset. You will also be able to see how an imputation can biased.\n",
    "\n",
    "In this exercise, you will compare the density plots of the Imputed DataFrames for `diabetes` you created earlier.\n",
    "\n",
    "The DataFrames `diabetes_cc`, `diabetes_mean_imputed`, `diabetes_knn_imputed` and `diabetes_mice_imputed` have already been loaded for you to use along with `matplotlib.pyplot` as `plt`.\n",
    "\n",
    "##### Instructions\n",
    "\n",
    "* Plot a density plot for the `'Skin_Fold'` column for each DataFrame.\n",
    "* Set the labels using the `labels` list.\n",
    "* Set the label for the x-axis to `'Skin Fold'`.\n"
   ]
  },
  {
   "cell_type": "code",
   "execution_count": 17,
   "metadata": {},
   "outputs": [],
   "source": [
    "# setup\n",
    "import matplotlib.pyplot as plt\n",
    "\n",
    "# from sklearn.impute import SimpleImputer\n",
    "# from fancyimpute import KNN\n",
    "# from fancyimpute import IterativeImputer\n",
    "\n",
    "# diabetes_mean = diabetes.copy(deep=True)\n",
    "# mean_imputer = SimpleImputer(strategy=\"mean\")\n",
    "# diabetes_mean.iloc[:, :] = mean_imputer.fit_transform(diabetes_mean)\n",
    "\n",
    "# diabetes_knn = diabetes.copy(deep=True)\n",
    "# knn_imputer = KNN(verbose=False)\n",
    "# diabetes_knn.iloc[:, :] = knn_imputer.fit_transform(diabetes_knn)\n",
    "\n",
    "# diabetes_mice = diabetes.copy(deep=True)\n",
    "# mice_imputer = IterativeImputer()\n",
    "# diabetes_mice.iloc[:, :] = mice_imputer.fit_transform(diabetes_mice)"
   ]
  },
  {
   "cell_type": "code",
   "execution_count": 19,
   "metadata": {},
   "outputs": [
    {
     "data": {
      "image/png": "[encoded data removed]",
      "text/plain": [
       "<Figure size 640x480 with 1 Axes>"
      ]
     },
     "metadata": {},
     "output_type": "display_data"
    }
   ],
   "source": [
    "# Plot graphs of imputed DataFrames and the complete case\n",
    "diabetes_cc[\"Skin_Fold\"].plot(kind=\"kde\", c=\"red\", linewidth=3)\n",
    "diabetes_mean[\"Skin_Fold\"].plot(kind=\"kde\")\n",
    "diabetes_knn[\"Skin_Fold\"].plot(kind=\"kde\")\n",
    "diabetes_mice[\"Skin_Fold\"].plot(kind=\"kde\")\n",
    "\n",
    "# Create labels for the four DataFrames\n",
    "labels = [\"Baseline (Complete Case)\", \"Mean Imputation\", \"KNN Imputation\", \"MICE Imputation\"]\n",
    "plt.legend(labels)\n",
    "\n",
    "# Set the x-label as Skin Fold\n",
    "plt.xlabel(\"Skin Fold\")\n",
    "\n",
    "plt.show()"
   ]
  }
 ],
 "metadata": {
  "kernelspec": {
   "display_name": ".venv",
   "language": "python",
   "name": "python3"
  },
  "language_info": {
   "codemirror_mode": {
    "name": "ipython",
    "version": 3
   },
   "file_extension": ".py",
   "mimetype": "text/x-python",
   "name": "python",
   "nbconvert_exporter": "python",
   "pygments_lexer": "ipython3",
   "version": "3.12.1"
  }
 },
 "nbformat": 4,
 "nbformat_minor": 2
}
