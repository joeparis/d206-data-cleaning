{
 "cells": [
  {
   "cell_type": "markdown",
   "metadata": {},
   "source": [
    "# Chapter 3 Data Preparation\n",
    "\n",
    "## The Problem Understanding Phase\n",
    "\n",
    "It's important to know *what* questions you are trying to answer.\n",
    "\n",
    "### Objectives\n",
    "\n",
    "1.  Learn about potential customers. What are the defining characteristics of those who both do and do not bank with us?\n",
    "2.  Develop a way to identify customers who are likely to bank with us in the future. This will save time and money by preventing our chasing customers who will likely not choose us in the future.\n",
    "\n",
    "### Translating These Objectives into a Data Science Problem\n",
    "\n",
    "How do we use DS to accomplish our objectives?\n",
    "\n",
    "1.  There are many ways to learn about potential customers.\n",
    "    1.  Exploratory Data Analysis to find relationships among variables. (ex. a histogram of age overlaid with responses to a yes/no question to determine if age has a bearing on customer response.)\n",
    "    2.  Use clustering to find any potential natural groupings within potential customers. (ex. group younger/better-educated vs older/less-educated and see if these clusters differ in their response to our marketing.)\n",
    "    3.  Use association rules to see if there are useful relationships between subsets of records. (ex. if the rule, \"if cell phone, then response = \"yes\" we could focus our efforts on only those potential customers who have cell phones.)\n",
    "2.  Develop models to identify likely positive respondents. Note that because the yes/no response is categorical we can use classification models but *not* estimation models.\n",
    "    1.  Develop the best models we can using the following algorithms:\n",
    "        -   decision trees\n",
    "        -   random forests\n",
    "        -   naive Bayes classification\n",
    "        -   neural networks\n",
    "        -   logistic regression\n",
    "    2.  Evaluate each model on some predetermined criteria (such as the cost of misclassification). and compare the models against each other.\n",
    "    3.  Consult with management regarding our findings.\n",
    "\n",
    "## The Data Preparation Phase\n",
    "\n",
    "Every data set has its own, unique needs in terms of cleaning and preparation. In this chapter we will focus on:\n",
    "\n",
    "-   adding an index field\n",
    "-   changing misleading field values\n",
    "-   re-expressing categorical data as numeric\n",
    "-   standardizing the numeric fields\n",
    "-   identifying outliers"
   ]
  },
  {
   "cell_type": "markdown",
   "metadata": {},
   "source": [
    "## Adding an Index Field\n",
    "\n",
    "Not all data sets include a natural ID or indexing variable. It's useful to add on to:\n",
    "\n",
    "1.  have some way to identify each observation\n",
    "2.  be able to restore the original ordering of the data set"
   ]
  },
  {
   "cell_type": "code",
   "execution_count": 4,
   "metadata": {},
   "outputs": [],
   "source": [
    "import pandas as pd\n",
    "import numpy as np\n",
    "import matplotlib.pyplot as plt\n",
    "\n",
    "from pathlib import Path"
   ]
  },
  {
   "cell_type": "code",
   "execution_count": 5,
   "metadata": {},
   "outputs": [],
   "source": [
    "bank_train = pd.read_csv(\"bank_marketing_training\")"
   ]
  },
  {
   "cell_type": "markdown",
   "metadata": {},
   "source": [
    "We first need to know how many observations there are in our data set. `.shape` will get number of rows and columns that are in the data set."
   ]
  },
  {
   "cell_type": "code",
   "execution_count": 6,
   "metadata": {},
   "outputs": [
    {
     "data": {
      "text/plain": [
       "(26874, 21)"
      ]
     },
     "execution_count": 6,
     "metadata": {},
     "output_type": "execute_result"
    }
   ],
   "source": [
    "bank_train.shape"
   ]
  },
  {
   "cell_type": "markdown",
   "metadata": {},
   "source": [
    "Next, we create a new variable to serve as the index. I prefer my index variable to be in the first column."
   ]
  },
  {
   "cell_type": "code",
   "execution_count": 4,
   "metadata": {},
   "outputs": [
    {
     "data": {
      "text/html": [
       "<div>\n",
       "<style scoped>\n",
       "    .dataframe tbody tr th:only-of-type {\n",
       "        vertical-align: middle;\n",
       "    }\n",
       "\n",
       "    .dataframe tbody tr th {\n",
       "        vertical-align: top;\n",
       "    }\n",
       "\n",
       "    .dataframe thead th {\n",
       "        text-align: right;\n",
       "    }\n",
       "</style>\n",
       "<table border=\"1\" class=\"dataframe\">\n",
       "  <thead>\n",
       "    <tr style=\"text-align: right;\">\n",
       "      <th></th>\n",
       "      <th>index</th>\n",
       "      <th>age</th>\n",
       "      <th>job</th>\n",
       "      <th>marital</th>\n",
       "      <th>education</th>\n",
       "      <th>default</th>\n",
       "      <th>housing</th>\n",
       "      <th>loan</th>\n",
       "      <th>contact</th>\n",
       "      <th>month</th>\n",
       "      <th>...</th>\n",
       "      <th>campaign</th>\n",
       "      <th>days_since_previous</th>\n",
       "      <th>previous</th>\n",
       "      <th>previous_outcome</th>\n",
       "      <th>emp.var.rate</th>\n",
       "      <th>cons.price.idx</th>\n",
       "      <th>cons.conf.idx</th>\n",
       "      <th>euribor3m</th>\n",
       "      <th>nr.employed</th>\n",
       "      <th>response</th>\n",
       "    </tr>\n",
       "  </thead>\n",
       "  <tbody>\n",
       "    <tr>\n",
       "      <th>0</th>\n",
       "      <td>0</td>\n",
       "      <td>56</td>\n",
       "      <td>housemaid</td>\n",
       "      <td>married</td>\n",
       "      <td>basic.4y</td>\n",
       "      <td>no</td>\n",
       "      <td>no</td>\n",
       "      <td>no</td>\n",
       "      <td>telephone</td>\n",
       "      <td>may</td>\n",
       "      <td>...</td>\n",
       "      <td>1</td>\n",
       "      <td>999</td>\n",
       "      <td>0</td>\n",
       "      <td>nonexistent</td>\n",
       "      <td>1.1</td>\n",
       "      <td>93.994</td>\n",
       "      <td>-36.4</td>\n",
       "      <td>4.857</td>\n",
       "      <td>5191</td>\n",
       "      <td>no</td>\n",
       "    </tr>\n",
       "    <tr>\n",
       "      <th>1</th>\n",
       "      <td>1</td>\n",
       "      <td>57</td>\n",
       "      <td>services</td>\n",
       "      <td>married</td>\n",
       "      <td>high.school</td>\n",
       "      <td>unknown</td>\n",
       "      <td>no</td>\n",
       "      <td>no</td>\n",
       "      <td>telephone</td>\n",
       "      <td>may</td>\n",
       "      <td>...</td>\n",
       "      <td>1</td>\n",
       "      <td>999</td>\n",
       "      <td>0</td>\n",
       "      <td>nonexistent</td>\n",
       "      <td>1.1</td>\n",
       "      <td>93.994</td>\n",
       "      <td>-36.4</td>\n",
       "      <td>4.857</td>\n",
       "      <td>5191</td>\n",
       "      <td>no</td>\n",
       "    </tr>\n",
       "    <tr>\n",
       "      <th>2</th>\n",
       "      <td>2</td>\n",
       "      <td>41</td>\n",
       "      <td>blue-collar</td>\n",
       "      <td>married</td>\n",
       "      <td>unknown</td>\n",
       "      <td>unknown</td>\n",
       "      <td>no</td>\n",
       "      <td>no</td>\n",
       "      <td>telephone</td>\n",
       "      <td>may</td>\n",
       "      <td>...</td>\n",
       "      <td>1</td>\n",
       "      <td>999</td>\n",
       "      <td>0</td>\n",
       "      <td>nonexistent</td>\n",
       "      <td>1.1</td>\n",
       "      <td>93.994</td>\n",
       "      <td>-36.4</td>\n",
       "      <td>4.857</td>\n",
       "      <td>5191</td>\n",
       "      <td>no</td>\n",
       "    </tr>\n",
       "    <tr>\n",
       "      <th>3</th>\n",
       "      <td>3</td>\n",
       "      <td>25</td>\n",
       "      <td>services</td>\n",
       "      <td>single</td>\n",
       "      <td>high.school</td>\n",
       "      <td>no</td>\n",
       "      <td>yes</td>\n",
       "      <td>no</td>\n",
       "      <td>telephone</td>\n",
       "      <td>may</td>\n",
       "      <td>...</td>\n",
       "      <td>1</td>\n",
       "      <td>999</td>\n",
       "      <td>0</td>\n",
       "      <td>nonexistent</td>\n",
       "      <td>1.1</td>\n",
       "      <td>93.994</td>\n",
       "      <td>-36.4</td>\n",
       "      <td>4.857</td>\n",
       "      <td>5191</td>\n",
       "      <td>no</td>\n",
       "    </tr>\n",
       "    <tr>\n",
       "      <th>4</th>\n",
       "      <td>4</td>\n",
       "      <td>29</td>\n",
       "      <td>blue-collar</td>\n",
       "      <td>single</td>\n",
       "      <td>high.school</td>\n",
       "      <td>no</td>\n",
       "      <td>no</td>\n",
       "      <td>yes</td>\n",
       "      <td>telephone</td>\n",
       "      <td>may</td>\n",
       "      <td>...</td>\n",
       "      <td>1</td>\n",
       "      <td>999</td>\n",
       "      <td>0</td>\n",
       "      <td>nonexistent</td>\n",
       "      <td>1.1</td>\n",
       "      <td>93.994</td>\n",
       "      <td>-36.4</td>\n",
       "      <td>4.857</td>\n",
       "      <td>5191</td>\n",
       "      <td>no</td>\n",
       "    </tr>\n",
       "  </tbody>\n",
       "</table>\n",
       "<p>5 rows × 22 columns</p>\n",
       "</div>"
      ],
      "text/plain": [
       "   index  age          job  marital    education  default housing loan  \\\n",
       "0      0   56    housemaid  married     basic.4y       no      no   no   \n",
       "1      1   57     services  married  high.school  unknown      no   no   \n",
       "2      2   41  blue-collar  married      unknown  unknown      no   no   \n",
       "3      3   25     services   single  high.school       no     yes   no   \n",
       "4      4   29  blue-collar   single  high.school       no      no  yes   \n",
       "\n",
       "     contact month  ... campaign  days_since_previous  previous  \\\n",
       "0  telephone   may  ...        1                  999         0   \n",
       "1  telephone   may  ...        1                  999         0   \n",
       "2  telephone   may  ...        1                  999         0   \n",
       "3  telephone   may  ...        1                  999         0   \n",
       "4  telephone   may  ...        1                  999         0   \n",
       "\n",
       "   previous_outcome  emp.var.rate cons.price.idx  cons.conf.idx  euribor3m  \\\n",
       "0       nonexistent           1.1         93.994          -36.4      4.857   \n",
       "1       nonexistent           1.1         93.994          -36.4      4.857   \n",
       "2       nonexistent           1.1         93.994          -36.4      4.857   \n",
       "3       nonexistent           1.1         93.994          -36.4      4.857   \n",
       "4       nonexistent           1.1         93.994          -36.4      4.857   \n",
       "\n",
       "   nr.employed  response  \n",
       "0         5191        no  \n",
       "1         5191        no  \n",
       "2         5191        no  \n",
       "3         5191        no  \n",
       "4         5191        no  \n",
       "\n",
       "[5 rows x 22 columns]"
      ]
     },
     "execution_count": 4,
     "metadata": {},
     "output_type": "execute_result"
    }
   ],
   "source": [
    "bank_train.insert(0, \"index\", pd.Series(range(bank_train.shape[0])))\n",
    "\n",
    "bank_train.head()"
   ]
  },
  {
   "cell_type": "markdown",
   "metadata": {},
   "source": [
    "## Changing Misleading Field Values\n",
    "\n",
    "The variable *days_since_previous* is a count of the number of days since the client was last contacted. The field is numeric so we can use a histogram to visualize and sanity check it."
   ]
  },
  {
   "cell_type": "code",
   "execution_count": 10,
   "metadata": {},
   "outputs": [
    {
     "data": {
      "text/plain": [
       "Text(0.5, 1.0, 'Histogram of days_since_previous')"
      ]
     },
     "execution_count": 10,
     "metadata": {},
     "output_type": "execute_result"
    },
    {
     "data": {
      "image/png": "[encoded data removed]",
      "text/plain": [
       "<Figure size 640x480 with 1 Axes>"
      ]
     },
     "metadata": {},
     "output_type": "display_data"
    }
   ],
   "source": [
    "plt.hist(bank_train[\"days_since_previous\"], edgecolor=\"black\")\n",
    "plt.xlabel(\"days_since_previous\")\n",
    "plt.ylabel(\"frequency\")\n",
    "plt.title(\"Histogram of days_since_previous\")"
   ]
  },
  {
   "cell_type": "markdown",
   "metadata": {},
   "source": [
    "We find that *many* of the values are near 1000 (999 to be exact). After some investigation we discover that 999 was used as a sentinel to indicate that customer had never been contacted.\n",
    "\n",
    "We will change the value *999* to *NaN*."
   ]
  },
  {
   "cell_type": "code",
   "execution_count": 11,
   "metadata": {},
   "outputs": [],
   "source": [
    "bank_train[\"days_since_previous\"] = bank_train[\"days_since_previous\"].replace({999: np.nan})"
   ]
  },
  {
   "cell_type": "code",
   "execution_count": 12,
   "metadata": {},
   "outputs": [
    {
     "data": {
      "text/plain": [
       "Text(0.5, 1.0, 'Histogram of days_since_previous')"
      ]
     },
     "execution_count": 12,
     "metadata": {},
     "output_type": "execute_result"
    },
    {
     "data": {
      "image/png": "[encoded data removed]",
      "text/plain": [
       "<Figure size 640x480 with 1 Axes>"
      ]
     },
     "metadata": {},
     "output_type": "display_data"
    }
   ],
   "source": [
    "plt.hist(bank_train[\"days_since_previous\"], edgecolor=\"black\")\n",
    "plt.xlabel(\"days_since_previous\")\n",
    "plt.ylabel(\"frequency\")\n",
    "plt.title(\"Histogram of days_since_previous\")"
   ]
  },
  {
   "cell_type": "markdown",
   "metadata": {},
   "source": [
    "## Re-Expression of Categorical Data as Numeric"
   ]
  },
  {
   "cell_type": "code",
   "execution_count": 24,
   "metadata": {},
   "outputs": [
    {
     "data": {
      "text/plain": [
       "Text(0.5, 1.0, 'Barplot of education')"
      ]
     },
     "execution_count": 24,
     "metadata": {},
     "output_type": "execute_result"
    },
    {
     "data": {
      "image/png": "[encoded data removed]",
      "text/plain": [
       "<Figure size 640x480 with 1 Axes>"
      ]
     },
     "metadata": {},
     "output_type": "display_data"
    }
   ],
   "source": [
    "# categories = bank_train[\"education\"].unique()\n",
    "# values = bank_train[\"education\"].value_counts()\n",
    "# categories_sorted = [x for _, x in sorted(zip(values, categories), reverse=True)]\n",
    "# values_sorted = sorted(values, reverse=True)\n",
    "# plt.barh(categories_sorted, values_sorted)\n",
    "plt.barh(bank_train[\"education\"].unique(), bank_train[\"education\"].value_counts())\n",
    "plt.title(\"Barplot of education\")"
   ]
  },
  {
   "cell_type": "markdown",
   "metadata": {},
   "source": [
    "Because the *education* variable is categorical there is no inherent ordering of the values. In other words, R can't know that *university.degree* represents more education than *basic.4y*. To provide this information to our algorithms we transform the data into numeric values.\n",
    "\n",
    "| Categorical Value   | Numeric Value |\n",
    "|---------------------|---------------|\n",
    "| illiterate          | 0             |\n",
    "| basic.4y            | 4             |\n",
    "| basic.6y            | 6             |\n",
    "| basic.9y            | 9             |\n",
    "| high.school         | 12            |\n",
    "| professional.course | 12            |\n",
    "| university.degree   | 16            |\n",
    "| unknown             | missing       |"
   ]
  }
 ],
 "metadata": {
  "kernelspec": {
   "display_name": ".venv",
   "language": "python",
   "name": "python3"
  },
  "language_info": {
   "codemirror_mode": {
    "name": "ipython",
    "version": 3
   },
   "file_extension": ".py",
   "mimetype": "text/x-python",
   "name": "python",
   "nbconvert_exporter": "python",
   "pygments_lexer": "ipython3",
   "version": "3.12.1"
  }
 },
 "nbformat": 4,
 "nbformat_minor": 2
}
